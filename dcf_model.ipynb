{
 "cells": [
  {
   "cell_type": "code",
   "execution_count": 186,
   "id": "d4d268e9-b450-41f4-b4ad-535de6f890c2",
   "metadata": {},
   "outputs": [],
   "source": [
    "import pandas as pd\n",
    "import yfinance as yf\n",
    "from datetime import datetime as dt\n",
    "from rapidfuzz import fuzz\n",
    "pd.set_option('future.no_silent_downcasting', True)"
   ]
  },
  {
   "cell_type": "markdown",
   "id": "f36d0dd3-aef3-4994-8def-5d342b1488ef",
   "metadata": {},
   "source": [
    "# Get WACC"
   ]
  },
  {
   "cell_type": "code",
   "execution_count": 3,
   "id": "6883334b-f66e-427d-98c7-f1c64fcdb3f0",
   "metadata": {},
   "outputs": [],
   "source": [
    "def get_risk_free_rate():\n",
    "    \"\"\"\n",
    "    Get the current 10-year Treasury yield (risk-free rate) from an API.\n",
    "    \"\"\"\n",
    "    try:\n",
    "        tnx = yf.Ticker(\"^TNX\")\n",
    "        current_yield = tnx.history(period=\"1d\")['Close'].iloc[-1] * 0.01\n",
    "        return round(current_yield, 3)\n",
    "    except:\n",
    "        return 0.04\n",
    "        \n",
    "def get_wacc(ticker):\n",
    "    stock= yf.Ticker(ticker)\n",
    "    #Get Market Cap\n",
    "    market_cap = stock.info.get('marketCap', 0)\n",
    "\n",
    "    #Get Total Debt\n",
    "    total_debt = stock.balance_sheet.loc['Total Debt'].iloc[0] if 'Total Debt' in stock.balance_sheet.index else 0\n",
    "\n",
    "    # Get Beta\n",
    "    beta = stock.info.get('beta', 1)\n",
    "\n",
    "    # Get Interest Expense & Total Revenue to estimate Cost of Debt (Rd)\n",
    "    interest_expense = stock.financials.loc['Interest Expense'].iloc[0] if 'Interest Expense' in stock.financials.index else 0\n",
    "    cost_of_debt = abs(interest_expense / total_debt) if total_debt and not pd.isna(interest_expense) else 0.05 # Default 5% if no data\n",
    "\n",
    "    # Get Tax Rate\n",
    "    tax_rate = 0.21  # Default to 21%\n",
    "\n",
    "    # Get Risk-Free Rate and Market Return (estimated ~8%)\n",
    "    risk_free_rate = get_risk_free_rate()\n",
    "    market_return = 0.08\n",
    "\n",
    "    #Calculate Cost of Equity (Re) using CAPM\n",
    "    cost_of_equity = risk_free_rate + beta * (market_return - risk_free_rate)\n",
    "    \n",
    "    # Total Value (V = E + D)\n",
    "    total_value = market_cap + total_debt\n",
    "\n",
    "    # Calculate WACC\n",
    "    wacc = (market_cap / total_value * cost_of_equity) + (total_debt / total_value * cost_of_debt * (1 - tax_rate))\n",
    "\n",
    "    return round(wacc, 4), round(beta, 2), cost_of_debt, tax_rate, risk_free_rate, market_return, cost_of_equity, total_debt, market_cap, total_value\n",
    "    \n",
    "#past 4 year revenue growth\n",
    "def get_revenue_growth(ticker):\n",
    "    stock= yf.Ticker(ticker)\n",
    "    revenue= stock.income_stmt.loc['Total Revenue'].dropna() /1e9\n",
    "    revenue = revenue.sort_index()\n",
    "\n",
    "    growth_rates = revenue.pct_change()\n",
    "    avg_growth = pd.Series(growth_rates[1:]).mean()\n",
    "\n",
    "    return revenue, avg_growth\n",
    "    \n",
    "#5 year revenue projection\n",
    "def get_revenue_projection(ticker, growth_rate):\n",
    "    stock= yf.Ticker(ticker)\n",
    "    revenue_projection = []\n",
    "    projection_years=[]\n",
    "    last_year = stock.income_stmt.columns[0].year\n",
    "    last_year_revenue= stock.income_stmt.loc['Total Revenue'].iloc[0]/1e9\n",
    "    \n",
    "    for x in range(5):\n",
    "        next_year_revenue = (last_year_revenue * (1 + growth_rate))\n",
    "        revenue_projection.append(round(next_year_revenue, 2))\n",
    "        last_year_revenue = next_year_revenue\n",
    "    \n",
    "        projection_years.append(last_year + (x + 1))\n",
    "        \n",
    "    return pd.Series(revenue_projection, projection_years) \n",
    "\n",
    "def get_ebit_margin(ticker):\n",
    "    stock= yf.Ticker(ticker)\n",
    "    if 'Operating Income' in stock.income_stmt.index:\n",
    "        operating_income = stock.income_stmt.loc['Operating Income'].dropna()\n",
    "        revenue = stock.income_stmt.loc['Total Revenue'].dropna()\n",
    "        operating_margin = operating_income/ revenue\n",
    "        \n",
    "        return operating_income/1e9, operating_margin,  operating_margin.mean()\n",
    "        \n",
    "    else:\n",
    "        print(\"Operating Income not found\")\n",
    "        \n",
    "def get_ebit_projection(revenue_projection, ebit_margin):\n",
    "    ebit_projection = []\n",
    "    \n",
    "    for revenue in revenue_projection:\n",
    "        ebit = revenue * ebit_margin\n",
    "        ebit_projection.append(round(ebit, 2))\n",
    "    return pd.Series(ebit_projection, revenue_projection.index) \n",
    "\n",
    "def get_depreciation_and_amortization(ticker, projection):\n",
    "    stock= yf.Ticker(ticker)\n",
    "    if 'Depreciation And Amortization' in stock.cashflow.index:\n",
    "        da = stock.cashflow.loc['Depreciation And Amortization'].dropna()/1e9\n",
    "        revenue= stock.income_stmt.loc['Total Revenue'].dropna()/1e9\n",
    "        da_rate = (da/revenue).mean()\n",
    "        da = change_timestamp_to_year(da)\n",
    "        return da, da_rate * projection\n",
    "    else:\n",
    "        print(\"Depreciation & Amortization not found\")\n",
    "\n",
    "def get_fcf_pv(fcf_projection, wacc):\n",
    "    discounted = []\n",
    "    \n",
    "    for t, fcf in enumerate(fcf_projection, start=1):\n",
    "        pv = fcf/((1 + wacc) ** t)\n",
    "        discounted.append(pv)\n",
    "        \n",
    "    return pd.Series(discounted, fcf_projection.index)  \n",
    "\n",
    "def get_terminal_value(fcf_projection, wacc):\n",
    "    terminal_growth = 0.02\n",
    "    final_year_fcf = fcf_projection.iloc[-1]\n",
    "    \n",
    "    terminal_value = (final_year_fcf * (1 + terminal_growth))/(wacc - terminal_growth)\n",
    "    \n",
    "    return terminal_value\n",
    "\n",
    "def get_pv_tv(tv, wacc):\n",
    "    n = 5\n",
    "    pv_tv= tv/((1 + wacc) ** n)\n",
    "\n",
    "    return pv_tv\n",
    "\n",
    "def get_enterprise_value(pv_fcf, pv_tv):\n",
    "    pv_fcf_sum = pv_fcf.sum()\n",
    "    \n",
    "    ev = pv_fcf_sum + pv_tv\n",
    "\n",
    "    return ev\n",
    "def get_net_debt(ticker):  \n",
    "    stock= yf.Ticker(ticker)\n",
    "    cash = stock.balance_sheet.loc['Cash Cash Equivalents And Short Term Investments'].iloc[0] \n",
    "    debt = stock.balance_sheet.loc['Long Term Debt'].iloc[0] \n",
    "    net_debt = debt - cash \n",
    "\n",
    "    return cash/1e9, debt/1e9, net_debt/1e9\n",
    "\n",
    "def get_equity_value(ev, net_debt):\n",
    "    return ev - net_debt\n",
    "\n",
    "def get_implied_share_price(ticker, equity_value):\n",
    "    stock= yf.Ticker(ticker)\n",
    "    share_outstanding = stock.info['sharesOutstanding']/1e9\n",
    "    per_share_value = equity_value / share_outstanding\n",
    "\n",
    "    return share_outstanding, per_share_value\n",
    "\n",
    "def change_timestamp_to_year(value):\n",
    "    return value.groupby(value.index.year).sum()\n",
    "\n",
    "def get_total_cash(ticker, past_revenue):\n",
    "    stock= yf.Ticker(ticker)\n",
    "    total_cash = stock.balance_sheet.loc['Cash Cash Equivalents And Short Term Investments'].dropna() /1e9\n",
    "    total_cash = change_timestamp_to_year(total_cash)\n",
    "    cash_margin = (total_cash / past_revenue).mean()\n",
    "\n",
    "    return cash_margin, total_cash\n",
    "\n",
    "def get_receivables(ticker, past_recenue):\n",
    "    stock= yf.Ticker(ticker)\n",
    "    receivables = stock.balance_sheet.loc['Receivables'].dropna() /1e9\n",
    "    receivables = change_timestamp_to_year(receivables)\n",
    "    receivables_margin = (receivables/ past_revenue).mean()\n",
    "\n",
    "    return receivables_margin, receivables\n",
    "    \n",
    "def get_inventory(ticker, past_recenue):\n",
    "    stock= yf.Ticker(ticker)\n",
    "    inventory = stock.balance_sheet.loc['Inventory'].dropna() /1e9\n",
    "    inventory = change_timestamp_to_year(inventory)\n",
    "    inventory_margin = (inventory/ past_revenue).mean()\n",
    "\n",
    "    return inventory_margin, inventory\n",
    "    \n",
    "def get_payables(ticker, past_recenue):\n",
    "    stock= yf.Ticker(ticker)\n",
    "    payables = stock.balance_sheet.loc['Payables'].dropna() /1e9\n",
    "    payables = change_timestamp_to_year(payables)\n",
    "    payables_margin = (payables/ past_revenue).mean()\n",
    "\n",
    "    return payables_margin, payables\n",
    "\n",
    "def get_capEx(ticker, past_revenue):\n",
    "    stock= yf.Ticker(ticker)\n",
    "    \n",
    "    if 'Capital Expenditure' in stock.cashflow.index:\n",
    "        capex = abs(stock.cashflow.loc['Capital Expenditure'].dropna()/1e9)\n",
    "        capex = change_timestamp_to_year(capex)\n",
    "        capex_margin = (capex/past_revenue).mean()\n",
    "        \n",
    "        return capex_margin, capex\n",
    "    else:\n",
    "        print(\"Capital Expenditure not found\")\n",
    "def get_ufcf_pv(ufcf, wacc): \n",
    "    pv_ufcf = []\n",
    "    \n",
    "    for t, fcf in enumerate(ufcf, start=1):\n",
    "        pv = fcf/((1 + wacc) ** t)\n",
    "        pv_ufcf.append(pv)\n",
    "\n",
    "    return pd.Series(pv_ufcf, ufcf.index) "
   ]
  },
  {
   "cell_type": "code",
   "execution_count": 4,
   "id": "12f35e04-1b9a-42e1-9457-993e717830fc",
   "metadata": {},
   "outputs": [],
   "source": [
    "ticker = \"AAPL\""
   ]
  },
  {
   "cell_type": "code",
   "execution_count": 5,
   "id": "0761c29d-754c-4b7f-b076-ed6672a627fb",
   "metadata": {},
   "outputs": [],
   "source": [
    "past_revenue, rate = get_revenue_growth(ticker)"
   ]
  },
  {
   "cell_type": "code",
   "execution_count": 6,
   "id": "20c3bb47-f206-4a73-a048-6d07e59bd38d",
   "metadata": {},
   "outputs": [],
   "source": [
    "wacc, beta, cost_of_debt, tax_rate, risk_free_rate, market_return, cost_of_equity, total_debt, market_cap, total_value = get_wacc(ticker)"
   ]
  },
  {
   "cell_type": "code",
   "execution_count": 7,
   "id": "4590dca2-626d-40a6-a879-e4c4421b8df2",
   "metadata": {},
   "outputs": [],
   "source": [
    "projection = get_revenue_projection(ticker=ticker, growth_rate= rate)"
   ]
  },
  {
   "cell_type": "code",
   "execution_count": 8,
   "id": "954d5d87-76d0-41e7-928e-3974f81d73c5",
   "metadata": {},
   "outputs": [],
   "source": [
    "past_ebit, past_ebit_margin, ebit_margin= get_ebit_margin(ticker)"
   ]
  },
  {
   "cell_type": "code",
   "execution_count": 9,
   "id": "298fadd7-1eac-4560-befc-94e7bd34a4cd",
   "metadata": {},
   "outputs": [],
   "source": [
    "ebit = get_ebit_projection(projection, ebit_margin)"
   ]
  },
  {
   "cell_type": "code",
   "execution_count": 10,
   "id": "f4466178-6d65-4cd2-ae3c-a39ca049ac63",
   "metadata": {},
   "outputs": [],
   "source": [
    "past_da, da_estimite = get_depreciation_and_amortization(ticker, projection)"
   ]
  },
  {
   "cell_type": "markdown",
   "id": "3a502053-a34f-4e97-861e-ef6591ffec84",
   "metadata": {},
   "source": [
    "# Operating Data"
   ]
  },
  {
   "cell_type": "code",
   "execution_count": 12,
   "id": "dd56dc9a-4b5d-415c-99c4-1a513e3718c3",
   "metadata": {},
   "outputs": [],
   "source": [
    "past_revenue = change_timestamp_to_year(past_revenue)"
   ]
  },
  {
   "cell_type": "code",
   "execution_count": 13,
   "id": "fe6229e1-5cd3-474b-9775-c10bb799b51d",
   "metadata": {},
   "outputs": [],
   "source": [
    "revenue_output = pd.concat([past_revenue, projection])"
   ]
  },
  {
   "cell_type": "code",
   "execution_count": 14,
   "id": "c53d97e6-adea-4fc8-a0e7-ce543febab2d",
   "metadata": {},
   "outputs": [],
   "source": [
    "revenue_pct_change = revenue_output.pct_change()"
   ]
  },
  {
   "cell_type": "code",
   "execution_count": 15,
   "id": "40f63f60-5faf-4137-a452-636213050810",
   "metadata": {},
   "outputs": [],
   "source": [
    "past_ebit = change_timestamp_to_year(past_ebit)"
   ]
  },
  {
   "cell_type": "code",
   "execution_count": 16,
   "id": "491ce7a9-e15a-45ac-80c8-443e18030f32",
   "metadata": {},
   "outputs": [],
   "source": [
    "ebit_output = pd.concat([past_ebit, ebit])"
   ]
  },
  {
   "cell_type": "code",
   "execution_count": 17,
   "id": "d4a4ae97-353d-4bf8-bd5c-638ed2aab146",
   "metadata": {},
   "outputs": [],
   "source": [
    "ebit_margin_output = ebit_output / revenue_output"
   ]
  },
  {
   "cell_type": "code",
   "execution_count": 18,
   "id": "e4d76f14-d710-4d67-82b4-1f1cdfe2881d",
   "metadata": {},
   "outputs": [],
   "source": [
    "da_output = pd.concat([past_da, da_estimite])"
   ]
  },
  {
   "cell_type": "code",
   "execution_count": 19,
   "id": "f82baf80-9699-47d1-844b-432098ad3b02",
   "metadata": {},
   "outputs": [],
   "source": [
    "da_rate_output = da_output / revenue_output"
   ]
  },
  {
   "cell_type": "code",
   "execution_count": 20,
   "id": "74bd77cc-cf65-440a-8249-be419605aebb",
   "metadata": {},
   "outputs": [
    {
     "data": {
      "text/html": [
       "<div>\n",
       "<style scoped>\n",
       "    .dataframe tbody tr th:only-of-type {\n",
       "        vertical-align: middle;\n",
       "    }\n",
       "\n",
       "    .dataframe tbody tr th {\n",
       "        vertical-align: top;\n",
       "    }\n",
       "\n",
       "    .dataframe thead th {\n",
       "        text-align: right;\n",
       "    }\n",
       "</style>\n",
       "<table border=\"1\" class=\"dataframe\">\n",
       "  <thead>\n",
       "    <tr style=\"text-align: right;\">\n",
       "      <th></th>\n",
       "      <th>2021</th>\n",
       "      <th>2022</th>\n",
       "      <th>2023</th>\n",
       "      <th>2024</th>\n",
       "      <th>2025</th>\n",
       "      <th>2026</th>\n",
       "      <th>2027</th>\n",
       "      <th>2028</th>\n",
       "      <th>2029</th>\n",
       "    </tr>\n",
       "  </thead>\n",
       "  <tbody>\n",
       "    <tr>\n",
       "      <th>Revenue</th>\n",
       "      <td>365.817000</td>\n",
       "      <td>394.328000</td>\n",
       "      <td>383.285000</td>\n",
       "      <td>391.035000</td>\n",
       "      <td>400.180000</td>\n",
       "      <td>409.540000</td>\n",
       "      <td>419.110000</td>\n",
       "      <td>428.910000</td>\n",
       "      <td>438.940000</td>\n",
       "    </tr>\n",
       "    <tr>\n",
       "      <th>Revenue %</th>\n",
       "      <td>NaN</td>\n",
       "      <td>0.077938</td>\n",
       "      <td>-0.028005</td>\n",
       "      <td>0.020220</td>\n",
       "      <td>0.023387</td>\n",
       "      <td>0.023389</td>\n",
       "      <td>0.023368</td>\n",
       "      <td>0.023383</td>\n",
       "      <td>0.023385</td>\n",
       "    </tr>\n",
       "    <tr>\n",
       "      <th>EBIT</th>\n",
       "      <td>108.949000</td>\n",
       "      <td>119.437000</td>\n",
       "      <td>114.301000</td>\n",
       "      <td>123.216000</td>\n",
       "      <td>121.460000</td>\n",
       "      <td>124.300000</td>\n",
       "      <td>127.200000</td>\n",
       "      <td>130.180000</td>\n",
       "      <td>133.220000</td>\n",
       "    </tr>\n",
       "    <tr>\n",
       "      <th>EBIT %</th>\n",
       "      <td>0.297824</td>\n",
       "      <td>0.302887</td>\n",
       "      <td>0.298214</td>\n",
       "      <td>0.315102</td>\n",
       "      <td>0.303513</td>\n",
       "      <td>0.303511</td>\n",
       "      <td>0.303500</td>\n",
       "      <td>0.303514</td>\n",
       "      <td>0.303504</td>\n",
       "    </tr>\n",
       "    <tr>\n",
       "      <th>Depreciation</th>\n",
       "      <td>11.284000</td>\n",
       "      <td>11.104000</td>\n",
       "      <td>11.519000</td>\n",
       "      <td>11.445000</td>\n",
       "      <td>11.838040</td>\n",
       "      <td>12.114926</td>\n",
       "      <td>12.398024</td>\n",
       "      <td>12.687925</td>\n",
       "      <td>12.984631</td>\n",
       "    </tr>\n",
       "    <tr>\n",
       "      <th>Depreciation %</th>\n",
       "      <td>0.030846</td>\n",
       "      <td>0.028159</td>\n",
       "      <td>0.030053</td>\n",
       "      <td>0.029268</td>\n",
       "      <td>0.029582</td>\n",
       "      <td>0.029582</td>\n",
       "      <td>0.029582</td>\n",
       "      <td>0.029582</td>\n",
       "      <td>0.029582</td>\n",
       "    </tr>\n",
       "  </tbody>\n",
       "</table>\n",
       "</div>"
      ],
      "text/plain": [
       "                      2021        2022        2023        2024        2025  \\\n",
       "Revenue         365.817000  394.328000  383.285000  391.035000  400.180000   \n",
       "Revenue %              NaN    0.077938   -0.028005    0.020220    0.023387   \n",
       "EBIT            108.949000  119.437000  114.301000  123.216000  121.460000   \n",
       "EBIT %            0.297824    0.302887    0.298214    0.315102    0.303513   \n",
       "Depreciation     11.284000   11.104000   11.519000   11.445000   11.838040   \n",
       "Depreciation %    0.030846    0.028159    0.030053    0.029268    0.029582   \n",
       "\n",
       "                      2026        2027        2028        2029  \n",
       "Revenue         409.540000  419.110000  428.910000  438.940000  \n",
       "Revenue %         0.023389    0.023368    0.023383    0.023385  \n",
       "EBIT            124.300000  127.200000  130.180000  133.220000  \n",
       "EBIT %            0.303511    0.303500    0.303514    0.303504  \n",
       "Depreciation     12.114926   12.398024   12.687925   12.984631  \n",
       "Depreciation %    0.029582    0.029582    0.029582    0.029582  "
      ]
     },
     "execution_count": 20,
     "metadata": {},
     "output_type": "execute_result"
    }
   ],
   "source": [
    "pd.DataFrame(data=[revenue_output, revenue_pct_change, ebit_output, ebit_margin_output, da_output, da_rate_output],\n",
    "            index=['Revenue','Revenue %', 'EBIT', 'EBIT %','Depreciation', 'Depreciation %'])"
   ]
  },
  {
   "cell_type": "markdown",
   "id": "c0f5f995-6ed8-4b88-b75d-f00b18555272",
   "metadata": {},
   "source": [
    "# Balance Sheet"
   ]
  },
  {
   "cell_type": "markdown",
   "id": "fbcf6ecc-8f6a-4e90-a37b-7d75301f8faf",
   "metadata": {},
   "source": [
    "## Total Cash"
   ]
  },
  {
   "cell_type": "code",
   "execution_count": 23,
   "id": "7d6787f3-0ead-4876-938c-fcc55b7eb380",
   "metadata": {},
   "outputs": [],
   "source": [
    "cash_margin, past_total_cash = get_total_cash(ticker, past_revenue)"
   ]
  },
  {
   "cell_type": "code",
   "execution_count": 24,
   "id": "252e17f1-c49b-42a7-8983-79e10d65ed5c",
   "metadata": {},
   "outputs": [],
   "source": [
    "total_cash_estimite = projection * cash_margin"
   ]
  },
  {
   "cell_type": "code",
   "execution_count": 25,
   "id": "bb435f52-5af1-4295-8e3d-da4a501aa1f3",
   "metadata": {},
   "outputs": [],
   "source": [
    "total_cash_output = pd.concat([past_total_cash, total_cash_estimite])"
   ]
  },
  {
   "cell_type": "code",
   "execution_count": 26,
   "id": "15db151b-d60a-4fb2-a488-9684306ac27f",
   "metadata": {},
   "outputs": [],
   "source": [
    "cash_margin_output = total_cash_output / revenue_output"
   ]
  },
  {
   "cell_type": "markdown",
   "id": "16d4cd23-bd27-4ec0-a2a5-d8ae9dcee0c3",
   "metadata": {},
   "source": [
    "## Receivable"
   ]
  },
  {
   "cell_type": "code",
   "execution_count": 28,
   "id": "bb1538f0-656e-45a9-a01e-263b38e99bfa",
   "metadata": {},
   "outputs": [],
   "source": [
    "receivable_margin, past_receivales = get_receivables(ticker, past_revenue)"
   ]
  },
  {
   "cell_type": "code",
   "execution_count": 29,
   "id": "a8482b04-6896-43df-aa9b-1e9d49b9663e",
   "metadata": {},
   "outputs": [],
   "source": [
    "receivable_estimite = projection * receivable_margin"
   ]
  },
  {
   "cell_type": "code",
   "execution_count": 30,
   "id": "d25af98c-6835-411f-a904-1eff32032f68",
   "metadata": {},
   "outputs": [],
   "source": [
    "receivable_output = pd.concat([past_receivales, receivable_estimite])"
   ]
  },
  {
   "cell_type": "code",
   "execution_count": 31,
   "id": "4b620a01-b008-49bd-9009-7afcf3cd715c",
   "metadata": {},
   "outputs": [],
   "source": [
    "receivable_margin_output = receivable_output/ revenue_output"
   ]
  },
  {
   "cell_type": "markdown",
   "id": "8b49faf2-12b8-4b46-9438-08f6dd57ceb7",
   "metadata": {},
   "source": [
    "## Inventory"
   ]
  },
  {
   "cell_type": "code",
   "execution_count": 33,
   "id": "08c3d1d3-55b8-4de1-8d9a-9db940ed7c80",
   "metadata": {},
   "outputs": [],
   "source": [
    "inventory_margin, past_inventory = get_inventory(ticker, past_revenue)"
   ]
  },
  {
   "cell_type": "code",
   "execution_count": 34,
   "id": "a09f089d-0bec-45bd-aeaa-3aeb522cd82b",
   "metadata": {},
   "outputs": [],
   "source": [
    "inventory_estimite = projection * inventory_margin"
   ]
  },
  {
   "cell_type": "code",
   "execution_count": 35,
   "id": "41f98305-358e-426d-8911-54df3c59f004",
   "metadata": {},
   "outputs": [],
   "source": [
    "inventory_output = pd.concat([past_inventory, inventory_estimite])"
   ]
  },
  {
   "cell_type": "code",
   "execution_count": 36,
   "id": "47fdead0-bc90-4214-9e14-57aa91c51958",
   "metadata": {},
   "outputs": [],
   "source": [
    "inventory_margin_output = inventory_output/ revenue_output"
   ]
  },
  {
   "cell_type": "markdown",
   "id": "edcf42cf-69fd-4640-aafb-9ac9fa499263",
   "metadata": {},
   "source": [
    "## Payable"
   ]
  },
  {
   "cell_type": "code",
   "execution_count": 38,
   "id": "757874f9-134e-45ca-8689-7b4fe17c3fcc",
   "metadata": {},
   "outputs": [],
   "source": [
    "payable_margin, past_payable = get_payables(ticker, past_revenue)"
   ]
  },
  {
   "cell_type": "code",
   "execution_count": 39,
   "id": "d2cd9777-b2a5-492d-8d9c-5aacbfe22c27",
   "metadata": {},
   "outputs": [],
   "source": [
    "payable_estimite = projection * payable_margin"
   ]
  },
  {
   "cell_type": "code",
   "execution_count": 40,
   "id": "6999b61e-d379-4061-8caf-2b144990cce1",
   "metadata": {},
   "outputs": [],
   "source": [
    "payable_output = pd.concat([past_payable, payable_estimite])"
   ]
  },
  {
   "cell_type": "code",
   "execution_count": 41,
   "id": "da48253e-8c69-43cb-8f36-db399e11a160",
   "metadata": {},
   "outputs": [],
   "source": [
    "payable_margin_output = payable_output/ revenue_output"
   ]
  },
  {
   "cell_type": "markdown",
   "id": "0aa4df9c-1d56-414d-a6e4-740c211d3e65",
   "metadata": {},
   "source": [
    "## CAP EX "
   ]
  },
  {
   "cell_type": "code",
   "execution_count": 43,
   "id": "1dc67d11-7e39-4c5f-b731-fa2eb47bf7c7",
   "metadata": {},
   "outputs": [],
   "source": [
    "capex_margin, past_capex = get_capEx(ticker, past_revenue)"
   ]
  },
  {
   "cell_type": "code",
   "execution_count": 44,
   "id": "8eae3a83-869c-4e0c-93b6-14b725cd28d1",
   "metadata": {},
   "outputs": [],
   "source": [
    "capex_estimite = projection * capex_margin"
   ]
  },
  {
   "cell_type": "code",
   "execution_count": 45,
   "id": "1e4560bb-234f-44e3-98e4-2b4a2bae83b4",
   "metadata": {},
   "outputs": [],
   "source": [
    "capex_output = pd.concat([past_capex, capex_estimite])"
   ]
  },
  {
   "cell_type": "code",
   "execution_count": 46,
   "id": "55d229ee-838e-4f07-937b-6e8bcf5dc4db",
   "metadata": {},
   "outputs": [],
   "source": [
    "capex_margin_output = capex_output/ revenue_output"
   ]
  },
  {
   "cell_type": "code",
   "execution_count": 47,
   "id": "3d591dc3-8387-4570-9409-0125ce484b82",
   "metadata": {},
   "outputs": [
    {
     "data": {
      "text/html": [
       "<div>\n",
       "<style scoped>\n",
       "    .dataframe tbody tr th:only-of-type {\n",
       "        vertical-align: middle;\n",
       "    }\n",
       "\n",
       "    .dataframe tbody tr th {\n",
       "        vertical-align: top;\n",
       "    }\n",
       "\n",
       "    .dataframe thead th {\n",
       "        text-align: right;\n",
       "    }\n",
       "</style>\n",
       "<table border=\"1\" class=\"dataframe\">\n",
       "  <thead>\n",
       "    <tr style=\"text-align: right;\">\n",
       "      <th></th>\n",
       "      <th>2021</th>\n",
       "      <th>2022</th>\n",
       "      <th>2023</th>\n",
       "      <th>2024</th>\n",
       "      <th>2025</th>\n",
       "      <th>2026</th>\n",
       "      <th>2027</th>\n",
       "      <th>2028</th>\n",
       "      <th>2029</th>\n",
       "    </tr>\n",
       "  </thead>\n",
       "  <tbody>\n",
       "    <tr>\n",
       "      <th>Total Cash</th>\n",
       "      <td>62.639000</td>\n",
       "      <td>48.304000</td>\n",
       "      <td>61.555000</td>\n",
       "      <td>65.171000</td>\n",
       "      <td>62.126822</td>\n",
       "      <td>63.579935</td>\n",
       "      <td>65.065651</td>\n",
       "      <td>66.587074</td>\n",
       "      <td>68.144203</td>\n",
       "    </tr>\n",
       "    <tr>\n",
       "      <th>Total Cash %</th>\n",
       "      <td>0.171230</td>\n",
       "      <td>0.122497</td>\n",
       "      <td>0.160599</td>\n",
       "      <td>0.166663</td>\n",
       "      <td>0.155247</td>\n",
       "      <td>0.155247</td>\n",
       "      <td>0.155247</td>\n",
       "      <td>0.155247</td>\n",
       "      <td>0.155247</td>\n",
       "    </tr>\n",
       "    <tr>\n",
       "      <th>Receivables</th>\n",
       "      <td>51.506000</td>\n",
       "      <td>60.932000</td>\n",
       "      <td>60.985000</td>\n",
       "      <td>66.243000</td>\n",
       "      <td>62.411465</td>\n",
       "      <td>63.871236</td>\n",
       "      <td>65.363759</td>\n",
       "      <td>66.892152</td>\n",
       "      <td>68.456416</td>\n",
       "    </tr>\n",
       "    <tr>\n",
       "      <th>Receivables %</th>\n",
       "      <td>0.140797</td>\n",
       "      <td>0.154521</td>\n",
       "      <td>0.159111</td>\n",
       "      <td>0.169404</td>\n",
       "      <td>0.155958</td>\n",
       "      <td>0.155958</td>\n",
       "      <td>0.155958</td>\n",
       "      <td>0.155958</td>\n",
       "      <td>0.155958</td>\n",
       "    </tr>\n",
       "    <tr>\n",
       "      <th>Inventories</th>\n",
       "      <td>6.580000</td>\n",
       "      <td>4.946000</td>\n",
       "      <td>6.331000</td>\n",
       "      <td>7.286000</td>\n",
       "      <td>6.570989</td>\n",
       "      <td>6.724681</td>\n",
       "      <td>6.881821</td>\n",
       "      <td>7.042738</td>\n",
       "      <td>7.207431</td>\n",
       "    </tr>\n",
       "    <tr>\n",
       "      <th>Inventories %</th>\n",
       "      <td>0.017987</td>\n",
       "      <td>0.012543</td>\n",
       "      <td>0.016518</td>\n",
       "      <td>0.018633</td>\n",
       "      <td>0.016420</td>\n",
       "      <td>0.016420</td>\n",
       "      <td>0.016420</td>\n",
       "      <td>0.016420</td>\n",
       "      <td>0.016420</td>\n",
       "    </tr>\n",
       "    <tr>\n",
       "      <th>Payable</th>\n",
       "      <td>54.763000</td>\n",
       "      <td>70.667000</td>\n",
       "      <td>71.430000</td>\n",
       "      <td>95.561000</td>\n",
       "      <td>75.999334</td>\n",
       "      <td>77.776919</td>\n",
       "      <td>79.594385</td>\n",
       "      <td>81.455531</td>\n",
       "      <td>83.360357</td>\n",
       "    </tr>\n",
       "    <tr>\n",
       "      <th>Payable %</th>\n",
       "      <td>0.149701</td>\n",
       "      <td>0.179209</td>\n",
       "      <td>0.186363</td>\n",
       "      <td>0.244380</td>\n",
       "      <td>0.189913</td>\n",
       "      <td>0.189913</td>\n",
       "      <td>0.189913</td>\n",
       "      <td>0.189913</td>\n",
       "      <td>0.189913</td>\n",
       "    </tr>\n",
       "    <tr>\n",
       "      <th>Cap Ex</th>\n",
       "      <td>11.085000</td>\n",
       "      <td>10.708000</td>\n",
       "      <td>10.959000</td>\n",
       "      <td>9.447000</td>\n",
       "      <td>11.025795</td>\n",
       "      <td>11.283683</td>\n",
       "      <td>11.547356</td>\n",
       "      <td>11.817367</td>\n",
       "      <td>12.093714</td>\n",
       "    </tr>\n",
       "    <tr>\n",
       "      <th>Cap EX %</th>\n",
       "      <td>0.030302</td>\n",
       "      <td>0.027155</td>\n",
       "      <td>0.028592</td>\n",
       "      <td>0.024159</td>\n",
       "      <td>0.027552</td>\n",
       "      <td>0.027552</td>\n",
       "      <td>0.027552</td>\n",
       "      <td>0.027552</td>\n",
       "      <td>0.027552</td>\n",
       "    </tr>\n",
       "  </tbody>\n",
       "</table>\n",
       "</div>"
      ],
      "text/plain": [
       "                    2021       2022       2023       2024       2025  \\\n",
       "Total Cash     62.639000  48.304000  61.555000  65.171000  62.126822   \n",
       "Total Cash %    0.171230   0.122497   0.160599   0.166663   0.155247   \n",
       "Receivables    51.506000  60.932000  60.985000  66.243000  62.411465   \n",
       "Receivables %   0.140797   0.154521   0.159111   0.169404   0.155958   \n",
       "Inventories     6.580000   4.946000   6.331000   7.286000   6.570989   \n",
       "Inventories %   0.017987   0.012543   0.016518   0.018633   0.016420   \n",
       "Payable        54.763000  70.667000  71.430000  95.561000  75.999334   \n",
       "Payable %       0.149701   0.179209   0.186363   0.244380   0.189913   \n",
       "Cap Ex         11.085000  10.708000  10.959000   9.447000  11.025795   \n",
       "Cap EX %        0.030302   0.027155   0.028592   0.024159   0.027552   \n",
       "\n",
       "                    2026       2027       2028       2029  \n",
       "Total Cash     63.579935  65.065651  66.587074  68.144203  \n",
       "Total Cash %    0.155247   0.155247   0.155247   0.155247  \n",
       "Receivables    63.871236  65.363759  66.892152  68.456416  \n",
       "Receivables %   0.155958   0.155958   0.155958   0.155958  \n",
       "Inventories     6.724681   6.881821   7.042738   7.207431  \n",
       "Inventories %   0.016420   0.016420   0.016420   0.016420  \n",
       "Payable        77.776919  79.594385  81.455531  83.360357  \n",
       "Payable %       0.189913   0.189913   0.189913   0.189913  \n",
       "Cap Ex         11.283683  11.547356  11.817367  12.093714  \n",
       "Cap EX %        0.027552   0.027552   0.027552   0.027552  "
      ]
     },
     "execution_count": 47,
     "metadata": {},
     "output_type": "execute_result"
    }
   ],
   "source": [
    "pd.DataFrame(data=[total_cash_output, cash_margin_output, receivable_output, receivable_margin_output,inventory_output,inventory_margin_output,\n",
    "                  payable_output, payable_margin_output, capex_output, capex_margin_output],\n",
    "            index=['Total Cash', 'Total Cash %', 'Receivables', 'Receivables %', 'Inventories', 'Inventories %',\n",
    "                  'Payable', 'Payable %', 'Cap Ex', 'Cap EX %'])"
   ]
  },
  {
   "cell_type": "markdown",
   "id": "e57b7736-2d32-46fd-ac25-40645017399c",
   "metadata": {},
   "source": [
    "# Weignted Average Cost of Capital"
   ]
  },
  {
   "cell_type": "code",
   "execution_count": 49,
   "id": "3455266e-d7da-42ad-ade6-35265390372c",
   "metadata": {},
   "outputs": [
    {
     "data": {
      "text/html": [
       "<div>\n",
       "<style scoped>\n",
       "    .dataframe tbody tr th:only-of-type {\n",
       "        vertical-align: middle;\n",
       "    }\n",
       "\n",
       "    .dataframe tbody tr th {\n",
       "        vertical-align: top;\n",
       "    }\n",
       "\n",
       "    .dataframe thead th {\n",
       "        text-align: right;\n",
       "    }\n",
       "</style>\n",
       "<table border=\"1\" class=\"dataframe\">\n",
       "  <thead>\n",
       "    <tr style=\"text-align: right;\">\n",
       "      <th></th>\n",
       "      <th>Value</th>\n",
       "    </tr>\n",
       "    <tr>\n",
       "      <th></th>\n",
       "      <th></th>\n",
       "    </tr>\n",
       "  </thead>\n",
       "  <tbody>\n",
       "    <tr>\n",
       "      <th>Beta</th>\n",
       "      <td>1.18</td>\n",
       "    </tr>\n",
       "    <tr>\n",
       "      <th>Cost of Debt</th>\n",
       "      <td>5.00%</td>\n",
       "    </tr>\n",
       "    <tr>\n",
       "      <th>Tax Rate</th>\n",
       "      <td>21%</td>\n",
       "    </tr>\n",
       "    <tr>\n",
       "      <th>Risk Free Rate</th>\n",
       "      <td>4.40%</td>\n",
       "    </tr>\n",
       "    <tr>\n",
       "      <th>Market Risk Premium</th>\n",
       "      <td>8.00%</td>\n",
       "    </tr>\n",
       "    <tr>\n",
       "      <th>Cost of Equity</th>\n",
       "      <td>8.64%</td>\n",
       "    </tr>\n",
       "    <tr>\n",
       "      <th>Total Debt</th>\n",
       "      <td>$107</td>\n",
       "    </tr>\n",
       "    <tr>\n",
       "      <th>Total Equity</th>\n",
       "      <td>$3,351</td>\n",
       "    </tr>\n",
       "    <tr>\n",
       "      <th>Total Capital</th>\n",
       "      <td>$3,458</td>\n",
       "    </tr>\n",
       "    <tr>\n",
       "      <th>WACC</th>\n",
       "      <td>8.50%</td>\n",
       "    </tr>\n",
       "  </tbody>\n",
       "</table>\n",
       "</div>"
      ],
      "text/plain": [
       "                      Value\n",
       "                           \n",
       "Beta                   1.18\n",
       "Cost of Debt          5.00%\n",
       "Tax Rate                21%\n",
       "Risk Free Rate        4.40%\n",
       "Market Risk Premium   8.00%\n",
       "Cost of Equity        8.64%\n",
       "Total Debt             $107\n",
       "Total Equity         $3,351\n",
       "Total Capital        $3,458\n",
       "WACC                  8.50%"
      ]
     },
     "execution_count": 49,
     "metadata": {},
     "output_type": "execute_result"
    }
   ],
   "source": [
    "metrics = [\n",
    "    ('Beta', f\"{beta:.2f}\"),\n",
    "    ('Cost of Debt', f\"{cost_of_debt:.2%}\"),\n",
    "    ('Tax Rate', f\"{tax_rate:.0%}\"),\n",
    "    ('Risk Free Rate', f\"{risk_free_rate:.2%}\"),\n",
    "    ('Market Risk Premium', f\"{market_return:.2%}\"),\n",
    "    ('Cost of Equity', f\"{cost_of_equity:.2%}\"),\n",
    "    ('Total Debt', f\"${total_debt/1e9:,.0f}\"),\n",
    "    ('Total Equity', f\"${market_cap/1e9:,.0f}\"),\n",
    "    ('Total Capital', f\"${total_value/1e9:,.0f}\"),\n",
    "    ('WACC', f\"{wacc:.2%}\")\n",
    "]\n",
    "\n",
    "pd.DataFrame(metrics, columns=['', 'Value']).set_index('')\n"
   ]
  },
  {
   "cell_type": "markdown",
   "id": "6cf204a4-f939-48ec-bd18-a0101b48cad7",
   "metadata": {},
   "source": [
    "# Build Up Free Cash Flow"
   ]
  },
  {
   "cell_type": "code",
   "execution_count": 51,
   "id": "d7c4bb5b-b602-43d4-8593-b534be03e6bc",
   "metadata": {},
   "outputs": [],
   "source": [
    "ebiat_output = ebit_output * (1 - tax_rate)"
   ]
  },
  {
   "cell_type": "code",
   "execution_count": 52,
   "id": "024c2c66-1039-4e1b-b9ae-63622e110d48",
   "metadata": {},
   "outputs": [],
   "source": [
    "operating_wc = receivable_output + inventory_output - payable_output\n",
    "delta_operating_wc = operating_wc.diff()"
   ]
  },
  {
   "cell_type": "code",
   "execution_count": 53,
   "id": "f2ff339f-978f-4cc2-9a8a-0813cf6ca3ef",
   "metadata": {},
   "outputs": [],
   "source": [
    "ufcf_output = ebiat_output + da_output - capex_output - delta_operating_wc"
   ]
  },
  {
   "cell_type": "code",
   "execution_count": 54,
   "id": "df081eee-8fe4-4187-9fd9-2892c9408334",
   "metadata": {},
   "outputs": [],
   "source": [
    "pv_ufcf_output = get_ufcf_pv(ufcf_output, wacc)"
   ]
  },
  {
   "cell_type": "code",
   "execution_count": 55,
   "id": "61076fe1-17e6-4075-ba62-6d2062272163",
   "metadata": {},
   "outputs": [
    {
     "data": {
      "text/html": [
       "<div>\n",
       "<style scoped>\n",
       "    .dataframe tbody tr th:only-of-type {\n",
       "        vertical-align: middle;\n",
       "    }\n",
       "\n",
       "    .dataframe tbody tr th {\n",
       "        vertical-align: top;\n",
       "    }\n",
       "\n",
       "    .dataframe thead th {\n",
       "        text-align: right;\n",
       "    }\n",
       "</style>\n",
       "<table border=\"1\" class=\"dataframe\">\n",
       "  <thead>\n",
       "    <tr style=\"text-align: right;\">\n",
       "      <th></th>\n",
       "      <th>2021</th>\n",
       "      <th>2022</th>\n",
       "      <th>2023</th>\n",
       "      <th>2024</th>\n",
       "      <th>2025</th>\n",
       "      <th>2026</th>\n",
       "      <th>2027</th>\n",
       "      <th>2028</th>\n",
       "      <th>2029</th>\n",
       "    </tr>\n",
       "  </thead>\n",
       "  <tbody>\n",
       "    <tr>\n",
       "      <th>Revenue</th>\n",
       "      <td>365.81700</td>\n",
       "      <td>394.328000</td>\n",
       "      <td>383.285000</td>\n",
       "      <td>391.035000</td>\n",
       "      <td>400.180000</td>\n",
       "      <td>409.540000</td>\n",
       "      <td>419.110000</td>\n",
       "      <td>428.910000</td>\n",
       "      <td>438.940000</td>\n",
       "    </tr>\n",
       "    <tr>\n",
       "      <th>EBIT</th>\n",
       "      <td>108.94900</td>\n",
       "      <td>119.437000</td>\n",
       "      <td>114.301000</td>\n",
       "      <td>123.216000</td>\n",
       "      <td>121.460000</td>\n",
       "      <td>124.300000</td>\n",
       "      <td>127.200000</td>\n",
       "      <td>130.180000</td>\n",
       "      <td>133.220000</td>\n",
       "    </tr>\n",
       "    <tr>\n",
       "      <th>EBIT After Tax</th>\n",
       "      <td>86.06971</td>\n",
       "      <td>94.355230</td>\n",
       "      <td>90.297790</td>\n",
       "      <td>97.340640</td>\n",
       "      <td>95.953400</td>\n",
       "      <td>98.197000</td>\n",
       "      <td>100.488000</td>\n",
       "      <td>102.842200</td>\n",
       "      <td>105.243800</td>\n",
       "    </tr>\n",
       "    <tr>\n",
       "      <th>Depreciation</th>\n",
       "      <td>11.28400</td>\n",
       "      <td>11.104000</td>\n",
       "      <td>11.519000</td>\n",
       "      <td>11.445000</td>\n",
       "      <td>11.838040</td>\n",
       "      <td>12.114926</td>\n",
       "      <td>12.398024</td>\n",
       "      <td>12.687925</td>\n",
       "      <td>12.984631</td>\n",
       "    </tr>\n",
       "    <tr>\n",
       "      <th>Receivables</th>\n",
       "      <td>51.50600</td>\n",
       "      <td>60.932000</td>\n",
       "      <td>60.985000</td>\n",
       "      <td>66.243000</td>\n",
       "      <td>62.411465</td>\n",
       "      <td>63.871236</td>\n",
       "      <td>65.363759</td>\n",
       "      <td>66.892152</td>\n",
       "      <td>68.456416</td>\n",
       "    </tr>\n",
       "    <tr>\n",
       "      <th>Inventories</th>\n",
       "      <td>6.58000</td>\n",
       "      <td>4.946000</td>\n",
       "      <td>6.331000</td>\n",
       "      <td>7.286000</td>\n",
       "      <td>6.570989</td>\n",
       "      <td>6.724681</td>\n",
       "      <td>6.881821</td>\n",
       "      <td>7.042738</td>\n",
       "      <td>7.207431</td>\n",
       "    </tr>\n",
       "    <tr>\n",
       "      <th>Payable</th>\n",
       "      <td>54.76300</td>\n",
       "      <td>70.667000</td>\n",
       "      <td>71.430000</td>\n",
       "      <td>95.561000</td>\n",
       "      <td>75.999334</td>\n",
       "      <td>77.776919</td>\n",
       "      <td>79.594385</td>\n",
       "      <td>81.455531</td>\n",
       "      <td>83.360357</td>\n",
       "    </tr>\n",
       "    <tr>\n",
       "      <th>Cap Ex</th>\n",
       "      <td>11.08500</td>\n",
       "      <td>10.708000</td>\n",
       "      <td>10.959000</td>\n",
       "      <td>9.447000</td>\n",
       "      <td>11.025795</td>\n",
       "      <td>11.283683</td>\n",
       "      <td>11.547356</td>\n",
       "      <td>11.817367</td>\n",
       "      <td>12.093714</td>\n",
       "    </tr>\n",
       "    <tr>\n",
       "      <th>Change in NWC(-)</th>\n",
       "      <td>NaN</td>\n",
       "      <td>-8.112000</td>\n",
       "      <td>0.675000</td>\n",
       "      <td>-17.918000</td>\n",
       "      <td>15.015119</td>\n",
       "      <td>-0.164121</td>\n",
       "      <td>-0.167803</td>\n",
       "      <td>-0.171836</td>\n",
       "      <td>-0.175869</td>\n",
       "    </tr>\n",
       "    <tr>\n",
       "      <th>Unlevered FCF</th>\n",
       "      <td>NaN</td>\n",
       "      <td>102.863230</td>\n",
       "      <td>90.182790</td>\n",
       "      <td>117.256640</td>\n",
       "      <td>81.750526</td>\n",
       "      <td>99.192364</td>\n",
       "      <td>101.506471</td>\n",
       "      <td>103.884595</td>\n",
       "      <td>106.310586</td>\n",
       "    </tr>\n",
       "    <tr>\n",
       "      <th>Present Value of FCF</th>\n",
       "      <td>NaN</td>\n",
       "      <td>87.377715</td>\n",
       "      <td>70.604837</td>\n",
       "      <td>84.609376</td>\n",
       "      <td>54.367813</td>\n",
       "      <td>60.799473</td>\n",
       "      <td>57.343680</td>\n",
       "      <td>54.089535</td>\n",
       "      <td>51.016289</td>\n",
       "    </tr>\n",
       "  </tbody>\n",
       "</table>\n",
       "</div>"
      ],
      "text/plain": [
       "                           2021        2022        2023        2024  \\\n",
       "Revenue               365.81700  394.328000  383.285000  391.035000   \n",
       "EBIT                  108.94900  119.437000  114.301000  123.216000   \n",
       "EBIT After Tax         86.06971   94.355230   90.297790   97.340640   \n",
       "Depreciation           11.28400   11.104000   11.519000   11.445000   \n",
       "Receivables            51.50600   60.932000   60.985000   66.243000   \n",
       "Inventories             6.58000    4.946000    6.331000    7.286000   \n",
       "Payable                54.76300   70.667000   71.430000   95.561000   \n",
       "Cap Ex                 11.08500   10.708000   10.959000    9.447000   \n",
       "Change in NWC(-)            NaN   -8.112000    0.675000  -17.918000   \n",
       "Unlevered FCF               NaN  102.863230   90.182790  117.256640   \n",
       "Present Value of FCF        NaN   87.377715   70.604837   84.609376   \n",
       "\n",
       "                            2025        2026        2027        2028  \\\n",
       "Revenue               400.180000  409.540000  419.110000  428.910000   \n",
       "EBIT                  121.460000  124.300000  127.200000  130.180000   \n",
       "EBIT After Tax         95.953400   98.197000  100.488000  102.842200   \n",
       "Depreciation           11.838040   12.114926   12.398024   12.687925   \n",
       "Receivables            62.411465   63.871236   65.363759   66.892152   \n",
       "Inventories             6.570989    6.724681    6.881821    7.042738   \n",
       "Payable                75.999334   77.776919   79.594385   81.455531   \n",
       "Cap Ex                 11.025795   11.283683   11.547356   11.817367   \n",
       "Change in NWC(-)       15.015119   -0.164121   -0.167803   -0.171836   \n",
       "Unlevered FCF          81.750526   99.192364  101.506471  103.884595   \n",
       "Present Value of FCF   54.367813   60.799473   57.343680   54.089535   \n",
       "\n",
       "                            2029  \n",
       "Revenue               438.940000  \n",
       "EBIT                  133.220000  \n",
       "EBIT After Tax        105.243800  \n",
       "Depreciation           12.984631  \n",
       "Receivables            68.456416  \n",
       "Inventories             7.207431  \n",
       "Payable                83.360357  \n",
       "Cap Ex                 12.093714  \n",
       "Change in NWC(-)       -0.175869  \n",
       "Unlevered FCF         106.310586  \n",
       "Present Value of FCF   51.016289  "
      ]
     },
     "execution_count": 55,
     "metadata": {},
     "output_type": "execute_result"
    }
   ],
   "source": [
    "pd.DataFrame(data=[revenue_output, ebit_output, ebiat_output, da_output, receivable_output,\n",
    "                   inventory_output, payable_output, capex_output, delta_operating_wc, ufcf_output, pv_ufcf_output],\n",
    "            index=['Revenue','EBIT','EBIT After Tax' ,'Depreciation' , 'Receivables',\n",
    "                   'Inventories', 'Payable', 'Cap Ex', 'Change in NWC(-)','Unlevered FCF',\n",
    "                    'Present Value of FCF'])"
   ]
  },
  {
   "cell_type": "markdown",
   "id": "812a8019-8b33-43b0-9ed4-c9f1b394293e",
   "metadata": {},
   "source": [
    "# Terminal Value and Intrinsic Value"
   ]
  },
  {
   "cell_type": "code",
   "execution_count": 57,
   "id": "8fd60a46-9375-4a22-a359-d048b4a7042d",
   "metadata": {},
   "outputs": [],
   "source": [
    "tv_output = get_terminal_value(ufcf_output, wacc)"
   ]
  },
  {
   "cell_type": "code",
   "execution_count": 58,
   "id": "b585bdd2-9dc5-4cf3-b3e9-ea899d1cfb2c",
   "metadata": {},
   "outputs": [],
   "source": [
    "pv_tv_output = get_pv_tv(tv_output, wacc)"
   ]
  },
  {
   "cell_type": "code",
   "execution_count": 59,
   "id": "47040b4a-ffed-4dee-a6bd-2fae5ef7ac42",
   "metadata": {},
   "outputs": [],
   "source": [
    "ev_output = get_enterprise_value(pv_ufcf_output, pv_tv_output)"
   ]
  },
  {
   "cell_type": "code",
   "execution_count": 60,
   "id": "25e8c1b3-ebf8-44ed-b258-7c82e08de809",
   "metadata": {},
   "outputs": [],
   "source": [
    "cash, debt, net_debt = get_net_debt(ticker)"
   ]
  },
  {
   "cell_type": "code",
   "execution_count": 61,
   "id": "a6a56b0f-a934-4088-b1f6-29f6c3b80084",
   "metadata": {},
   "outputs": [],
   "source": [
    "equity_value_output = get_equity_value(ev_output, net_debt)"
   ]
  },
  {
   "cell_type": "code",
   "execution_count": 62,
   "id": "8b6667dd-805e-4bf3-b946-8ba9ac542a8d",
   "metadata": {},
   "outputs": [],
   "source": [
    "share_count, share_price = get_implied_share_price(ticker, equity_value_output)"
   ]
  },
  {
   "cell_type": "code",
   "execution_count": 121,
   "id": "d4300be7-ee4c-4c58-8518-7638729b791e",
   "metadata": {},
   "outputs": [
    {
     "data": {
      "text/html": [
       "<div>\n",
       "<style scoped>\n",
       "    .dataframe tbody tr th:only-of-type {\n",
       "        vertical-align: middle;\n",
       "    }\n",
       "\n",
       "    .dataframe tbody tr th {\n",
       "        vertical-align: top;\n",
       "    }\n",
       "\n",
       "    .dataframe thead th {\n",
       "        text-align: right;\n",
       "    }\n",
       "</style>\n",
       "<table border=\"1\" class=\"dataframe\">\n",
       "  <thead>\n",
       "    <tr style=\"text-align: right;\">\n",
       "      <th></th>\n",
       "      <th>Value</th>\n",
       "    </tr>\n",
       "    <tr>\n",
       "      <th></th>\n",
       "      <th></th>\n",
       "    </tr>\n",
       "  </thead>\n",
       "  <tbody>\n",
       "    <tr>\n",
       "      <th>Terminal Value</th>\n",
       "      <td>$1,668.26B</td>\n",
       "    </tr>\n",
       "    <tr>\n",
       "      <th>PV of Terminal Value</th>\n",
       "      <td>$1,109.47B</td>\n",
       "    </tr>\n",
       "    <tr>\n",
       "      <th>Enterprise Value</th>\n",
       "      <td>$1,629.68B</td>\n",
       "    </tr>\n",
       "    <tr>\n",
       "      <th>Cash (+)</th>\n",
       "      <td>$65.17B</td>\n",
       "    </tr>\n",
       "    <tr>\n",
       "      <th>Debt (-)</th>\n",
       "      <td>$85.75B</td>\n",
       "    </tr>\n",
       "    <tr>\n",
       "      <th>Equity Value</th>\n",
       "      <td>$1,609.10B</td>\n",
       "    </tr>\n",
       "    <tr>\n",
       "      <th>Shares Outstanding</th>\n",
       "      <td>15</td>\n",
       "    </tr>\n",
       "    <tr>\n",
       "      <th>Implied Share Price</th>\n",
       "      <td>$107.12</td>\n",
       "    </tr>\n",
       "  </tbody>\n",
       "</table>\n",
       "</div>"
      ],
      "text/plain": [
       "                           Value\n",
       "                                \n",
       "Terminal Value        $1,668.26B\n",
       "PV of Terminal Value  $1,109.47B\n",
       "Enterprise Value      $1,629.68B\n",
       "Cash (+)                 $65.17B\n",
       "Debt (-)                 $85.75B\n",
       "Equity Value          $1,609.10B\n",
       "Shares Outstanding            15\n",
       "Implied Share Price      $107.12"
      ]
     },
     "execution_count": 121,
     "metadata": {},
     "output_type": "execute_result"
    }
   ],
   "source": [
    "metrics_2 = [\n",
    "    ('Terminal Value', f\"${tv_output:,.2f}B\"),\n",
    "    ('PV of Terminal Value', f\"${pv_tv_output:,.2f}B\"),\n",
    "    ('Enterprise Value', f\"${ev_output:,.2f}B\"),\n",
    "    ('Cash (+)', f\"${cash:,.2f}B\"),\n",
    "    ('Debt (-)', f\"${debt:,.2f}B\"),\n",
    "    ('Equity Value', f\"${equity_value_output:,.2f}B\"),\n",
    "    ('Shares Outstanding', f\"{share_count:,.0f}\"),\n",
    "    ('Implied Share Price', f\"${share_price:,.2f}\")\n",
    "]\n",
    "\n",
    "pd.DataFrame(metrics_2, columns=['', 'Value']).set_index('')\n"
   ]
  },
  {
   "cell_type": "code",
   "execution_count": null,
   "id": "5aa48ac2-ba6b-4d4f-b6f5-a6af4618f2d2",
   "metadata": {},
   "outputs": [],
   "source": []
  },
  {
   "cell_type": "code",
   "execution_count": 84,
   "id": "a9441d0a-ab3a-4fdb-b31f-a1bfb981824e",
   "metadata": {},
   "outputs": [],
   "source": [
    "df1 = pd.read_csv('sp500_dcf_failed.csv')"
   ]
  },
  {
   "cell_type": "code",
   "execution_count": 90,
   "id": "6af6a960-f93e-4ddd-b0fc-6cad4cf50e89",
   "metadata": {},
   "outputs": [
    {
     "data": {
      "text/html": [
       "<div>\n",
       "<style scoped>\n",
       "    .dataframe tbody tr th:only-of-type {\n",
       "        vertical-align: middle;\n",
       "    }\n",
       "\n",
       "    .dataframe tbody tr th {\n",
       "        vertical-align: top;\n",
       "    }\n",
       "\n",
       "    .dataframe thead th {\n",
       "        text-align: right;\n",
       "    }\n",
       "</style>\n",
       "<table border=\"1\" class=\"dataframe\">\n",
       "  <thead>\n",
       "    <tr style=\"text-align: right;\">\n",
       "      <th></th>\n",
       "      <th>Ticker</th>\n",
       "      <th>error</th>\n",
       "    </tr>\n",
       "  </thead>\n",
       "  <tbody>\n",
       "    <tr>\n",
       "      <th>0</th>\n",
       "      <td>ACN</td>\n",
       "      <td>'Inventory'</td>\n",
       "    </tr>\n",
       "    <tr>\n",
       "      <th>1</th>\n",
       "      <td>ADBE</td>\n",
       "      <td>'Inventory'</td>\n",
       "    </tr>\n",
       "    <tr>\n",
       "      <th>2</th>\n",
       "      <td>AFL</td>\n",
       "      <td>cannot unpack non-iterable NoneType object</td>\n",
       "    </tr>\n",
       "    <tr>\n",
       "      <th>3</th>\n",
       "      <td>ABNB</td>\n",
       "      <td>'Inventory'</td>\n",
       "    </tr>\n",
       "    <tr>\n",
       "      <th>4</th>\n",
       "      <td>AKAM</td>\n",
       "      <td>'Inventory'</td>\n",
       "    </tr>\n",
       "    <tr>\n",
       "      <th>...</th>\n",
       "      <td>...</td>\n",
       "      <td>...</td>\n",
       "    </tr>\n",
       "    <tr>\n",
       "      <th>186</th>\n",
       "      <td>WY</td>\n",
       "      <td>cannot unpack non-iterable NoneType object</td>\n",
       "    </tr>\n",
       "    <tr>\n",
       "      <th>187</th>\n",
       "      <td>WSM</td>\n",
       "      <td>'Long Term Debt'</td>\n",
       "    </tr>\n",
       "    <tr>\n",
       "      <th>188</th>\n",
       "      <td>WTW</td>\n",
       "      <td>'Inventory'</td>\n",
       "    </tr>\n",
       "    <tr>\n",
       "      <th>189</th>\n",
       "      <td>WDAY</td>\n",
       "      <td>'Inventory'</td>\n",
       "    </tr>\n",
       "    <tr>\n",
       "      <th>190</th>\n",
       "      <td>YUM</td>\n",
       "      <td>'Inventory'</td>\n",
       "    </tr>\n",
       "  </tbody>\n",
       "</table>\n",
       "<p>191 rows × 2 columns</p>\n",
       "</div>"
      ],
      "text/plain": [
       "    Ticker                                       error\n",
       "0      ACN                                 'Inventory'\n",
       "1     ADBE                                 'Inventory'\n",
       "2      AFL  cannot unpack non-iterable NoneType object\n",
       "3     ABNB                                 'Inventory'\n",
       "4     AKAM                                 'Inventory'\n",
       "..     ...                                         ...\n",
       "186     WY  cannot unpack non-iterable NoneType object\n",
       "187    WSM                            'Long Term Debt'\n",
       "188    WTW                                 'Inventory'\n",
       "189   WDAY                                 'Inventory'\n",
       "190    YUM                                 'Inventory'\n",
       "\n",
       "[191 rows x 2 columns]"
      ]
     },
     "execution_count": 90,
     "metadata": {},
     "output_type": "execute_result"
    }
   ],
   "source": [
    "df1"
   ]
  },
  {
   "cell_type": "code",
   "execution_count": 92,
   "id": "cca838cc-386f-460f-920e-079df1b6cee6",
   "metadata": {},
   "outputs": [
    {
     "data": {
      "text/plain": [
       "error\n",
       "'Capital Expenditure'                           1\n",
       "'Inventory'                                   106\n",
       "'Long Term Debt'                               13\n",
       "'Receivables'                                   6\n",
       "'Total Revenue'                                 2\n",
       "cannot unpack non-iterable NoneType object     63\n",
       "Name: error, dtype: int64"
      ]
     },
     "execution_count": 92,
     "metadata": {},
     "output_type": "execute_result"
    }
   ],
   "source": [
    "df1.groupby('error')['error'].count()"
   ]
  },
  {
   "cell_type": "code",
   "execution_count": 94,
   "id": "134616da-f6ef-4988-954b-b9d50a132597",
   "metadata": {},
   "outputs": [],
   "source": [
    "df1['error'] = df1['error'].str.replace(\"'\", \"\", regex=False)"
   ]
  },
  {
   "cell_type": "code",
   "execution_count": 174,
   "id": "b2d3308b-60c6-4a74-baa4-b3c9306e58a4",
   "metadata": {},
   "outputs": [
    {
     "data": {
      "text/html": [
       "<div>\n",
       "<style scoped>\n",
       "    .dataframe tbody tr th:only-of-type {\n",
       "        vertical-align: middle;\n",
       "    }\n",
       "\n",
       "    .dataframe tbody tr th {\n",
       "        vertical-align: top;\n",
       "    }\n",
       "\n",
       "    .dataframe thead th {\n",
       "        text-align: right;\n",
       "    }\n",
       "</style>\n",
       "<table border=\"1\" class=\"dataframe\">\n",
       "  <thead>\n",
       "    <tr style=\"text-align: right;\">\n",
       "      <th></th>\n",
       "      <th>Ticker</th>\n",
       "      <th>error</th>\n",
       "    </tr>\n",
       "  </thead>\n",
       "  <tbody>\n",
       "    <tr>\n",
       "      <th>24</th>\n",
       "      <td>BRK.B</td>\n",
       "      <td>Total Revenue</td>\n",
       "    </tr>\n",
       "    <tr>\n",
       "      <th>31</th>\n",
       "      <td>BF.B</td>\n",
       "      <td>Total Revenue</td>\n",
       "    </tr>\n",
       "  </tbody>\n",
       "</table>\n",
       "</div>"
      ],
      "text/plain": [
       "   Ticker          error\n",
       "24  BRK.B  Total Revenue\n",
       "31   BF.B  Total Revenue"
      ]
     },
     "execution_count": 174,
     "metadata": {},
     "output_type": "execute_result"
    }
   ],
   "source": [
    "df1[df1['error']== 'Total Revenue']"
   ]
  },
  {
   "cell_type": "code",
   "execution_count": 96,
   "id": "118ef84a-2f17-4456-84ee-ffa21e430000",
   "metadata": {},
   "outputs": [],
   "source": [
    "long_term_debt= df1[df1['error']=='Long Term Debt']"
   ]
  },
  {
   "cell_type": "code",
   "execution_count": 298,
   "id": "09ccd2a4-a4a3-44c7-8f7f-370616900947",
   "metadata": {},
   "outputs": [],
   "source": [
    "ticker ='KMI'\n",
    "stock= yf.Ticker(ticker)"
   ]
  },
  {
   "cell_type": "code",
   "execution_count": 230,
   "id": "8e1880f0-c14d-4e9e-8e61-610081f78611",
   "metadata": {},
   "outputs": [
    {
     "data": {
      "text/plain": [
       "'Total Operating Income As Reported'"
      ]
     },
     "execution_count": 230,
     "metadata": {},
     "output_type": "execute_result"
    }
   ],
   "source": [
    "income_s = stock.income_stmt\n",
    "income_s[income_s.index.to_series().str.contains('Operating Income', regex= True)].index[0]"
   ]
  },
  {
   "cell_type": "code",
   "execution_count": 212,
   "id": "0088174b-400d-4d27-9a79-8bdd1a09bd62",
   "metadata": {},
   "outputs": [
    {
     "data": {
      "text/plain": [
       "'Operating Revenue'"
      ]
     },
     "execution_count": 212,
     "metadata": {},
     "output_type": "execute_result"
    }
   ],
   "source": [
    "income_s = stock.income_stmt\n",
    "target = 'Operating Income'\n",
    "similarity_scores = income_s.index.to_series().apply(lambda x: fuzz.ratio(x, target))\n",
    "# income_s.loc[similarity_scores.sort_values(ascending=False).index]\n",
    "similarity_scores.sort_values(ascending=False).index[0]"
   ]
  },
  {
   "cell_type": "code",
   "execution_count": 214,
   "id": "f11e5356-14bf-4e87-9e28-47b70136b071",
   "metadata": {},
   "outputs": [
    {
     "data": {
      "text/plain": [
       "'Long Term Debt'"
      ]
     },
     "execution_count": 214,
     "metadata": {},
     "output_type": "execute_result"
    }
   ],
   "source": [
    "income_s = stock.balance_sheet\n",
    "target = 'Long Term Debt'\n",
    "similarity_scores = income_s.index.to_series().apply(lambda x: fuzz.ratio(x, target))\n",
    "# income_s.loc[similarity_scores.sort_values(ascending=False).index]\n",
    "similarity_scores.sort_values(ascending=False).index[0]"
   ]
  },
  {
   "cell_type": "code",
   "execution_count": 158,
   "id": "da14856a-4bee-4efe-846d-9441e8e8c74f",
   "metadata": {},
   "outputs": [],
   "source": [
    "tickers = long_term_debt['Ticker']\n",
    "debt_df = []\n",
    "failed = 0\n",
    "\n",
    "for ticker in tickers:\n",
    "    try:\n",
    "        stock= yf.Ticker(ticker)\n",
    "        bs = stock.balance_sheet\n",
    "        line_item = bs[bs.index.to_series().str.contains('Long Term Debt', regex=True)].index[0]\n",
    "        debt = bs.loc[line_item].iloc[0] / 1e9\n",
    "        if pd.isna(debt):\n",
    "            debt = 1\n",
    "        debt_df.append({'Name': ticker, 'Debt': debt})\n",
    "    except Exception as e:\n",
    "        failed += 1"
   ]
  },
  {
   "cell_type": "code",
   "execution_count": 160,
   "id": "911f6e6a-2bca-494b-b055-375dbdb5c8e0",
   "metadata": {},
   "outputs": [
    {
     "data": {
      "text/plain": [
       "0"
      ]
     },
     "execution_count": 160,
     "metadata": {},
     "output_type": "execute_result"
    }
   ],
   "source": [
    "failed"
   ]
  },
  {
   "cell_type": "code",
   "execution_count": 162,
   "id": "f191e050-71f0-4178-b103-0025a1503f09",
   "metadata": {},
   "outputs": [],
   "source": [
    "df4= pd.DataFrame(debt_df)"
   ]
  },
  {
   "cell_type": "code",
   "execution_count": 124,
   "id": "7bd744a0-0b8c-4f0e-9c05-cfe5edabde78",
   "metadata": {},
   "outputs": [
    {
     "data": {
      "text/plain": [
       "0     False\n",
       "1      True\n",
       "2     False\n",
       "3     False\n",
       "4     False\n",
       "5     False\n",
       "6      True\n",
       "7     False\n",
       "8     False\n",
       "9     False\n",
       "10    False\n",
       "11    False\n",
       "12    False\n",
       "Name: Debt, dtype: bool"
      ]
     },
     "execution_count": 124,
     "metadata": {},
     "output_type": "execute_result"
    }
   ],
   "source": [
    "df4['Debt'].isna()"
   ]
  },
  {
   "cell_type": "code",
   "execution_count": 164,
   "id": "5640c161-6d65-4fb0-b33f-a612953bba40",
   "metadata": {},
   "outputs": [
    {
     "data": {
      "text/html": [
       "<div>\n",
       "<style scoped>\n",
       "    .dataframe tbody tr th:only-of-type {\n",
       "        vertical-align: middle;\n",
       "    }\n",
       "\n",
       "    .dataframe tbody tr th {\n",
       "        vertical-align: top;\n",
       "    }\n",
       "\n",
       "    .dataframe thead th {\n",
       "        text-align: right;\n",
       "    }\n",
       "</style>\n",
       "<table border=\"1\" class=\"dataframe\">\n",
       "  <thead>\n",
       "    <tr style=\"text-align: right;\">\n",
       "      <th></th>\n",
       "      <th>Name</th>\n",
       "      <th>Debt</th>\n",
       "    </tr>\n",
       "  </thead>\n",
       "  <tbody>\n",
       "    <tr>\n",
       "      <th>0</th>\n",
       "      <td>ALGN</td>\n",
       "      <td>0.088214</td>\n",
       "    </tr>\n",
       "    <tr>\n",
       "      <th>1</th>\n",
       "      <td>ANET</td>\n",
       "      <td>0.000000</td>\n",
       "    </tr>\n",
       "    <tr>\n",
       "      <th>2</th>\n",
       "      <td>CMG</td>\n",
       "      <td>4.262782</td>\n",
       "    </tr>\n",
       "    <tr>\n",
       "      <th>3</th>\n",
       "      <td>DECK</td>\n",
       "      <td>0.213298</td>\n",
       "    </tr>\n",
       "    <tr>\n",
       "      <th>4</th>\n",
       "      <td>GRMN</td>\n",
       "      <td>0.134886</td>\n",
       "    </tr>\n",
       "    <tr>\n",
       "      <th>5</th>\n",
       "      <td>INCY</td>\n",
       "      <td>0.033542</td>\n",
       "    </tr>\n",
       "    <tr>\n",
       "      <th>6</th>\n",
       "      <td>ISRG</td>\n",
       "      <td>0.000000</td>\n",
       "    </tr>\n",
       "    <tr>\n",
       "      <th>7</th>\n",
       "      <td>LULU</td>\n",
       "      <td>1.300637</td>\n",
       "    </tr>\n",
       "    <tr>\n",
       "      <th>8</th>\n",
       "      <td>MRNA</td>\n",
       "      <td>0.710000</td>\n",
       "    </tr>\n",
       "    <tr>\n",
       "      <th>9</th>\n",
       "      <td>MPWR</td>\n",
       "      <td>0.012974</td>\n",
       "    </tr>\n",
       "    <tr>\n",
       "      <th>10</th>\n",
       "      <td>ULTA</td>\n",
       "      <td>1.627271</td>\n",
       "    </tr>\n",
       "    <tr>\n",
       "      <th>11</th>\n",
       "      <td>VRTX</td>\n",
       "      <td>1.657200</td>\n",
       "    </tr>\n",
       "    <tr>\n",
       "      <th>12</th>\n",
       "      <td>WSM</td>\n",
       "      <td>1.113135</td>\n",
       "    </tr>\n",
       "  </tbody>\n",
       "</table>\n",
       "</div>"
      ],
      "text/plain": [
       "    Name      Debt\n",
       "0   ALGN  0.088214\n",
       "1   ANET  0.000000\n",
       "2    CMG  4.262782\n",
       "3   DECK  0.213298\n",
       "4   GRMN  0.134886\n",
       "5   INCY  0.033542\n",
       "6   ISRG  0.000000\n",
       "7   LULU  1.300637\n",
       "8   MRNA  0.710000\n",
       "9   MPWR  0.012974\n",
       "10  ULTA  1.627271\n",
       "11  VRTX  1.657200\n",
       "12   WSM  1.113135"
      ]
     },
     "execution_count": 164,
     "metadata": {},
     "output_type": "execute_result"
    }
   ],
   "source": [
    "df4"
   ]
  },
  {
   "cell_type": "code",
   "execution_count": 184,
   "id": "f92622b8-102e-4907-8f5a-1c75fde66725",
   "metadata": {},
   "outputs": [
    {
     "name": "stdout",
     "output_type": "stream",
     "text": [
      "Collecting rapidfuzz\n",
      "  Downloading rapidfuzz-3.12.2-cp312-cp312-win_amd64.whl.metadata (12 kB)\n",
      "Downloading rapidfuzz-3.12.2-cp312-cp312-win_amd64.whl (1.6 MB)\n",
      "   ---------------------------------------- 0.0/1.6 MB ? eta -:--:--\n",
      "   ---------------------------------------- 1.6/1.6 MB 21.9 MB/s eta 0:00:00\n",
      "Installing collected packages: rapidfuzz\n",
      "Successfully installed rapidfuzz-3.12.2\n"
     ]
    }
   ],
   "source": [
    "!pip install rapidfuzz"
   ]
  },
  {
   "cell_type": "code",
   "execution_count": 300,
   "id": "2687e115-f348-48f2-a9f1-2ab9287f84d4",
   "metadata": {},
   "outputs": [
    {
     "data": {
      "text/plain": [
       "Index(['Free Cash Flow', 'Repurchase Of Capital Stock', 'Repayment Of Debt',\n",
       "       'Issuance Of Debt', 'Capital Expenditure',\n",
       "       'Interest Paid Supplemental Data', 'Income Tax Paid Supplemental Data',\n",
       "       'End Cash Position', 'Beginning Cash Position',\n",
       "       'Effect Of Exchange Rate Changes', 'Changes In Cash',\n",
       "       'Financing Cash Flow', 'Cash Flow From Continuing Financing Activities',\n",
       "       'Net Other Financing Charges', 'Cash Dividends Paid',\n",
       "       'Preferred Stock Dividend Paid', 'Common Stock Dividend Paid',\n",
       "       'Net Common Stock Issuance', 'Common Stock Payments',\n",
       "       'Net Issuance Payments Of Debt', 'Net Long Term Debt Issuance',\n",
       "       'Long Term Debt Payments', 'Long Term Debt Issuance',\n",
       "       'Investing Cash Flow', 'Cash Flow From Continuing Investing Activities',\n",
       "       'Net Other Investing Changes', 'Dividends Received Cfi',\n",
       "       'Net Investment Purchase And Sale', 'Purchase Of Investment',\n",
       "       'Net Business Purchase And Sale', 'Sale Of Business',\n",
       "       'Purchase Of Business', 'Net PPE Purchase And Sale', 'Sale Of PPE',\n",
       "       'Purchase Of PPE', 'Capital Expenditure Reported',\n",
       "       'Operating Cash Flow', 'Cash Flow From Continuing Operating Activities',\n",
       "       'Dividend Received Cfo', 'Change In Working Capital',\n",
       "       'Change In Other Working Capital',\n",
       "       'Change In Other Current Liabilities', 'Change In Other Current Assets',\n",
       "       'Change In Payables And Accrued Expense', 'Change In Accrued Expense',\n",
       "       'Change In Interest Payable', 'Change In Payable',\n",
       "       'Change In Account Payable', 'Change In Tax Payable',\n",
       "       'Change In Income Tax Payable', 'Change In Inventory',\n",
       "       'Change In Receivables', 'Changes In Account Receivables',\n",
       "       'Other Non Cash Items', 'Asset Impairment Charge',\n",
       "       'Amortization Of Securities', 'Deferred Tax', 'Deferred Income Tax',\n",
       "       'Depreciation Amortization Depletion', 'Operating Gains Losses',\n",
       "       'Pension And Employee Benefit Expense',\n",
       "       'Earnings Losses From Equity Investments',\n",
       "       'Gain Loss On Investment Securities', 'Gain Loss On Sale Of PPE',\n",
       "       'Gain Loss On Sale Of Business',\n",
       "       'Net Income From Continuing Operations'],\n",
       "      dtype='object')"
      ]
     },
     "execution_count": 300,
     "metadata": {},
     "output_type": "execute_result"
    }
   ],
   "source": [
    "stock.cashflow.index"
   ]
  },
  {
   "cell_type": "code",
   "execution_count": 302,
   "id": "b06a31c6-bd14-49e3-8ded-cbc04dc042e0",
   "metadata": {},
   "outputs": [],
   "source": [
    "cf = stock.cashflow.index\n",
    "target = 'Depreciation And Amortization'"
   ]
  },
  {
   "cell_type": "code",
   "execution_count": 260,
   "id": "f1d8613c-856c-4be8-9f6e-eaadae9f6d5b",
   "metadata": {},
   "outputs": [],
   "source": [
    "income_s = stock.income_stmt.index\n",
    "target2 = 'Operating Income'"
   ]
  },
  {
   "cell_type": "code",
   "execution_count": 242,
   "id": "6f967234-2e0d-4482-9a28-efd2ba02d40f",
   "metadata": {},
   "outputs": [],
   "source": [
    "import difflib"
   ]
  },
  {
   "cell_type": "code",
   "execution_count": 282,
   "id": "bef0f9ea-6276-420d-a786-bd9f49700835",
   "metadata": {},
   "outputs": [],
   "source": [
    "def get_best_match_index(index_list, target_name, cutoff=0.6):\n",
    "    # Check for exact match first\n",
    "    if target_name in index_list:\n",
    "        return target_name\n",
    "    else:\n",
    "        # Find closest matches using difflib\n",
    "        close_matches = difflib.get_close_matches(target_name, index_list, n=1, cutoff=cutoff)\n",
    "        if close_matches:\n",
    "            return close_matches[0]\n",
    "        else:\n",
    "            return None "
   ]
  },
  {
   "cell_type": "code",
   "execution_count": 304,
   "id": "8432dc62-99c1-48cd-bae9-f1ea4aee2ad4",
   "metadata": {},
   "outputs": [
    {
     "data": {
      "text/plain": [
       "'Depreciation Amortization Depletion'"
      ]
     },
     "execution_count": 304,
     "metadata": {},
     "output_type": "execute_result"
    }
   ],
   "source": [
    "get_best_match_index(cf, target)"
   ]
  },
  {
   "cell_type": "code",
   "execution_count": 286,
   "id": "495bdab0-aba4-420d-8512-a31f9c3b5f76",
   "metadata": {},
   "outputs": [
    {
     "data": {
      "text/plain": [
       "'Net Income'"
      ]
     },
     "execution_count": 286,
     "metadata": {},
     "output_type": "execute_result"
    }
   ],
   "source": [
    "get_best_match_index(income_s, target2)"
   ]
  },
  {
   "cell_type": "code",
   "execution_count": 262,
   "id": "30067501-f15e-4f9c-800c-9853fa9e0506",
   "metadata": {},
   "outputs": [
    {
     "data": {
      "text/plain": [
       "Index(['Tax Effect Of Unusual Items', 'Tax Rate For Calcs',\n",
       "       'Net Income From Continuing Operation Net Minority Interest', 'EBIT',\n",
       "       'Net Interest Income', 'Interest Expense', 'Normalized Income',\n",
       "       'Net Income From Continuing And Discontinued Operation',\n",
       "       'Total Expenses', 'Diluted Average Shares', 'Basic Average Shares',\n",
       "       'Diluted EPS', 'Basic EPS', 'Diluted NI Availto Com Stockholders',\n",
       "       'Net Income Common Stockholders', 'Net Income',\n",
       "       'Net Income Including Noncontrolling Interests',\n",
       "       'Net Income Continuous Operations', 'Tax Provision', 'Pretax Income',\n",
       "       'Other Income Expense', 'Net Non Operating Interest Income Expense',\n",
       "       'Interest Expense Non Operating', 'Other Operating Expenses',\n",
       "       'Total Revenue', 'Operating Revenue', 'Loss Adjustment Expense',\n",
       "       'Net Policyholder Benefits And Claims', 'Policyholder Benefits Gross',\n",
       "       'Policyholder Benefits Ceded'],\n",
       "      dtype='object')"
      ]
     },
     "execution_count": 262,
     "metadata": {},
     "output_type": "execute_result"
    }
   ],
   "source": [
    "income_s"
   ]
  },
  {
   "cell_type": "code",
   "execution_count": 306,
   "id": "d1f1bd0d-dd06-41d8-ad15-1a54ffd01d7a",
   "metadata": {},
   "outputs": [
    {
     "data": {
      "text/plain": [
       "{'address1': '1001 Louisiana Street',\n",
       " 'address2': 'Suite 1000',\n",
       " 'city': 'Houston',\n",
       " 'state': 'TX',\n",
       " 'zip': '77002',\n",
       " 'country': 'United States',\n",
       " 'phone': '713-369-9000',\n",
       " 'website': 'https://www.kindermorgan.com',\n",
       " 'industry': 'Oil & Gas Midstream',\n",
       " 'industryKey': 'oil-gas-midstream',\n",
       " 'industryDisp': 'Oil & Gas Midstream',\n",
       " 'sector': 'Energy',\n",
       " 'sectorKey': 'energy',\n",
       " 'sectorDisp': 'Energy',\n",
       " 'longBusinessSummary': 'Kinder Morgan, Inc. operates as an energy infrastructure company primarily in North America. The company operates through Natural Gas Pipelines, Products Pipelines, Terminals, and CO2 segments. The Natural Gas Pipelines segment owns and operates interstate and intrastate natural gas pipeline, and storage systems; natural gas gathering systems and natural gas processing and treating facilities; natural gas liquids fractionation facilities and transportation systems; and liquefied natural gas gasification, liquefaction, and storage facilities. The Products Pipelines segment owns and operates refined petroleum products, and crude oil and condensate pipelines; and associated product terminals and petroleum pipeline transmix facilities. The Terminals segment owns and/or operates liquids and bulk terminals that stores and handles various commodities, including gasoline, diesel fuel, renewable fuel and feedstocks, chemicals, ethanol, metals, and petroleum coke; and owns tankers. The CO2 segment produces, transports, and markets CO2 to recovery and production crude oil from mature oil fields; owns interests in/or operates oil fields and gasoline processing plants; and operates a crude oil pipeline system in West Texas, as well as owns and operates RNG and LNG facilities. The company was formerly known as Kinder Morgan Holdco LLC and changed its name to Kinder Morgan, Inc. in February 2011. Kinder Morgan, Inc. was founded in 1997 and is headquartered in Houston, Texas.',\n",
       " 'fullTimeEmployees': 10933,\n",
       " 'companyOfficers': [{'maxAge': 1,\n",
       "   'name': 'Ms. Kimberly Allen Dang',\n",
       "   'age': 54,\n",
       "   'title': 'CEO & Director',\n",
       "   'yearBorn': 1970,\n",
       "   'fiscalYear': 2023,\n",
       "   'totalPay': 1364577,\n",
       "   'exercisedValue': 0,\n",
       "   'unexercisedValue': 0},\n",
       "  {'maxAge': 1,\n",
       "   'name': 'Mr. Thomas A. Martin',\n",
       "   'age': 62,\n",
       "   'title': 'President',\n",
       "   'yearBorn': 1962,\n",
       "   'fiscalYear': 2023,\n",
       "   'totalPay': 1739577,\n",
       "   'exercisedValue': 0,\n",
       "   'unexercisedValue': 0},\n",
       "  {'maxAge': 1,\n",
       "   'name': 'Mr. David Patrick Michels',\n",
       "   'age': 45,\n",
       "   'title': 'VP & CFO',\n",
       "   'yearBorn': 1979,\n",
       "   'fiscalYear': 2023,\n",
       "   'totalPay': 1249577,\n",
       "   'exercisedValue': 0,\n",
       "   'unexercisedValue': 0},\n",
       "  {'maxAge': 1,\n",
       "   'name': 'Mr. James E. Holland',\n",
       "   'age': 61,\n",
       "   'title': 'VP & COO',\n",
       "   'yearBorn': 1963,\n",
       "   'fiscalYear': 2023,\n",
       "   'totalPay': 1174577,\n",
       "   'exercisedValue': 0,\n",
       "   'unexercisedValue': 0},\n",
       "  {'maxAge': 1,\n",
       "   'name': 'Mr. Dax A. Sanders CPA',\n",
       "   'age': 49,\n",
       "   'title': 'VP & President of Products Pipelines',\n",
       "   'yearBorn': 1975,\n",
       "   'fiscalYear': 2023,\n",
       "   'totalPay': 1189577,\n",
       "   'exercisedValue': 0,\n",
       "   'unexercisedValue': 0},\n",
       "  {'maxAge': 1,\n",
       "   'name': 'Mr. Richard D. Kinder',\n",
       "   'age': 79,\n",
       "   'title': 'Executive Chairman of the Board',\n",
       "   'yearBorn': 1945,\n",
       "   'fiscalYear': 2023,\n",
       "   'totalPay': 1,\n",
       "   'exercisedValue': 0,\n",
       "   'unexercisedValue': 0},\n",
       "  {'maxAge': 1,\n",
       "   'name': 'Mr. Mark  Huse',\n",
       "   'title': 'VP & Chief Information Officer',\n",
       "   'fiscalYear': 2023,\n",
       "   'exercisedValue': 0,\n",
       "   'unexercisedValue': 0},\n",
       "  {'maxAge': 1,\n",
       "   'name': 'Mr. Michael J. Pitta',\n",
       "   'age': 50,\n",
       "   'title': 'VP & Chief Administrative Officer',\n",
       "   'yearBorn': 1974,\n",
       "   'fiscalYear': 2023,\n",
       "   'exercisedValue': 0,\n",
       "   'unexercisedValue': 0},\n",
       "  {'maxAge': 1,\n",
       "   'name': 'Ms. Catherine B. Callaway James J.D.',\n",
       "   'age': 59,\n",
       "   'title': 'VP & General Counsel',\n",
       "   'yearBorn': 1965,\n",
       "   'fiscalYear': 2023,\n",
       "   'exercisedValue': 0,\n",
       "   'unexercisedValue': 0},\n",
       "  {'maxAge': 1,\n",
       "   'name': 'Mr. David W. Conover',\n",
       "   'title': 'Vice President of Government Relations & Communications',\n",
       "   'fiscalYear': 2023,\n",
       "   'exercisedValue': 0,\n",
       "   'unexercisedValue': 0}],\n",
       " 'auditRisk': 8,\n",
       " 'boardRisk': 9,\n",
       " 'compensationRisk': 4,\n",
       " 'shareHolderRightsRisk': 7,\n",
       " 'overallRisk': 8,\n",
       " 'governanceEpochDate': 1743465600,\n",
       " 'compensationAsOfEpochDate': 1703980800,\n",
       " 'irWebsite': 'http://199.230.26.96/kmi/index.html',\n",
       " 'executiveTeam': [],\n",
       " 'maxAge': 86400,\n",
       " 'priceHint': 2,\n",
       " 'previousClose': 28.63,\n",
       " 'open': 28.38,\n",
       " 'dayLow': 28.36,\n",
       " 'dayHigh': 28.855,\n",
       " 'regularMarketPreviousClose': 28.63,\n",
       " 'regularMarketOpen': 28.38,\n",
       " 'regularMarketDayLow': 28.36,\n",
       " 'regularMarketDayHigh': 28.855,\n",
       " 'dividendRate': 1.15,\n",
       " 'dividendYield': 4.02,\n",
       " 'exDividendDate': 1738540800,\n",
       " 'payoutRatio': 0.9786,\n",
       " 'fiveYearAvgDividendYield': 6.22,\n",
       " 'beta': 0.935,\n",
       " 'trailingPE': 24.62265,\n",
       " 'forwardPE': 22.86389,\n",
       " 'volume': 4867484,\n",
       " 'regularMarketVolume': 4867484,\n",
       " 'averageVolume': 14463871,\n",
       " 'averageVolume10days': 11479220,\n",
       " 'averageDailyVolume10Day': 11479220,\n",
       " 'bid': 28.75,\n",
       " 'ask': 28.76,\n",
       " 'bidSize': 10,\n",
       " 'askSize': 11,\n",
       " 'marketCap': 64011333632,\n",
       " 'fiftyTwoWeekLow': 17.61,\n",
       " 'fiftyTwoWeekHigh': 31.48,\n",
       " 'priceToSalesTrailing12Months': 4.239161,\n",
       " 'fiftyDayAverage': 27.4796,\n",
       " 'twoHundredDayAverage': 24.6225,\n",
       " 'trailingAnnualDividendRate': 1.15,\n",
       " 'trailingAnnualDividendYield': 0.040167656,\n",
       " 'currency': 'USD',\n",
       " 'tradeable': False,\n",
       " 'enterpriseValue': 97256800256,\n",
       " 'profitMargins': 0.17305,\n",
       " 'floatShares': 1937929492,\n",
       " 'sharesOutstanding': 2221959936,\n",
       " 'sharesShort': 33914082,\n",
       " 'sharesShortPriorMonth': 37203283,\n",
       " 'sharesShortPreviousMonthDate': 1739491200,\n",
       " 'dateShortInterest': 1741910400,\n",
       " 'sharesPercentSharesOut': 0.0153,\n",
       " 'heldPercentInsiders': 0.12791,\n",
       " 'heldPercentInstitutions': 0.67691004,\n",
       " 'shortRatio': 2.46,\n",
       " 'shortPercentOfFloat': 0.0175,\n",
       " 'impliedSharesOutstanding': 2221959936,\n",
       " 'bookValue': 13.743,\n",
       " 'priceToBook': 2.0962307,\n",
       " 'lastFiscalYearEnd': 1735603200,\n",
       " 'nextFiscalYearEnd': 1767139200,\n",
       " 'mostRecentQuarter': 1735603200,\n",
       " 'earningsQuarterlyGrowth': 0.123,\n",
       " 'netIncomeToCommon': 2598000128,\n",
       " 'trailingEps': 1.17,\n",
       " 'forwardEps': 1.26,\n",
       " 'enterpriseToRevenue': 6.441,\n",
       " 'enterpriseToEbitda': 14.669,\n",
       " '52WeekChange': 0.54339623,\n",
       " 'SandP52WeekChange': 0.08089435,\n",
       " 'lastDividendValue': 0.288,\n",
       " 'lastDividendDate': 1738540800,\n",
       " 'quoteType': 'EQUITY',\n",
       " 'currentPrice': 28.8085,\n",
       " 'targetHighPrice': 38.0,\n",
       " 'targetLowPrice': 22.0,\n",
       " 'targetMeanPrice': 30.35333,\n",
       " 'targetMedianPrice': 31.0,\n",
       " 'recommendationMean': 2.14286,\n",
       " 'recommendationKey': 'buy',\n",
       " 'numberOfAnalystOpinions': 18,\n",
       " 'totalCash': 93000000,\n",
       " 'totalCashPerShare': 0.042,\n",
       " 'ebitda': 6630000128,\n",
       " 'totalDebt': 32398999552,\n",
       " 'quickRatio': 0.313,\n",
       " 'currentRatio': 0.494,\n",
       " 'totalRevenue': 15100000256,\n",
       " 'debtToEquity': 101.669,\n",
       " 'revenuePerShare': 6.802,\n",
       " 'returnOnAssets': 0.03812,\n",
       " 'returnOnEquity': 0.08554,\n",
       " 'grossProfits': 7791000064,\n",
       " 'freeCashflow': 1304499968,\n",
       " 'operatingCashflow': 5634999808,\n",
       " 'earningsGrowth': 0.121,\n",
       " 'revenueGrowth': -0.013,\n",
       " 'grossMargins': 0.51596,\n",
       " 'ebitdaMargins': 0.43907002,\n",
       " 'operatingMargins': 0.28693,\n",
       " 'financialCurrency': 'USD',\n",
       " 'symbol': 'KMI',\n",
       " 'language': 'en-US',\n",
       " 'region': 'US',\n",
       " 'typeDisp': 'Equity',\n",
       " 'quoteSourceName': 'Nasdaq Real Time Price',\n",
       " 'triggerable': True,\n",
       " 'customPriceAlertConfidence': 'HIGH',\n",
       " 'corporateActions': [],\n",
       " 'regularMarketTime': 1743619730,\n",
       " 'exchange': 'NYQ',\n",
       " 'messageBoardId': 'finmb_34952431',\n",
       " 'exchangeTimezoneName': 'America/New_York',\n",
       " 'exchangeTimezoneShortName': 'EDT',\n",
       " 'gmtOffSetMilliseconds': -14400000,\n",
       " 'market': 'us_market',\n",
       " 'esgPopulated': False,\n",
       " 'shortName': 'Kinder Morgan, Inc.',\n",
       " 'longName': 'Kinder Morgan, Inc.',\n",
       " 'marketState': 'REGULAR',\n",
       " 'regularMarketChangePercent': 0.62347585,\n",
       " 'regularMarketPrice': 28.8085,\n",
       " 'hasPrePostMarketData': True,\n",
       " 'firstTradeDateMilliseconds': 1297434600000,\n",
       " 'regularMarketChange': 0.17850113,\n",
       " 'regularMarketDayRange': '28.36 - 28.855',\n",
       " 'fullExchangeName': 'NYSE',\n",
       " 'averageDailyVolume3Month': 14463871,\n",
       " 'fiftyTwoWeekLowChange': 11.1985,\n",
       " 'fiftyTwoWeekLowChangePercent': 0.63591707,\n",
       " 'fiftyTwoWeekRange': '17.61 - 31.48',\n",
       " 'fiftyTwoWeekHighChange': -2.6714993,\n",
       " 'fiftyTwoWeekHighChangePercent': -0.08486338,\n",
       " 'fiftyTwoWeekChangePercent': 54.339622,\n",
       " 'dividendDate': 1739836800,\n",
       " 'earningsTimestamp': 1737579900,\n",
       " 'earningsTimestampStart': 1744714740,\n",
       " 'earningsTimestampEnd': 1745236800,\n",
       " 'earningsCallTimestampStart': 1737581400,\n",
       " 'earningsCallTimestampEnd': 1737581400,\n",
       " 'isEarningsDateEstimate': True,\n",
       " 'epsTrailingTwelveMonths': 1.17,\n",
       " 'epsForward': 1.26,\n",
       " 'epsCurrentYear': 1.28605,\n",
       " 'priceEpsCurrentYear': 22.400763,\n",
       " 'fiftyDayAverageChange': 1.3288994,\n",
       " 'fiftyDayAverageChangePercent': 0.048359487,\n",
       " 'twoHundredDayAverageChange': 4.186001,\n",
       " 'twoHundredDayAverageChangePercent': 0.17000714,\n",
       " 'sourceInterval': 15,\n",
       " 'exchangeDataDelayedBy': 0,\n",
       " 'averageAnalystRating': '2.1 - Buy',\n",
       " 'cryptoTradeable': False,\n",
       " 'displayName': 'Kinder Morgan',\n",
       " 'trailingPegRatio': 2.5563}"
      ]
     },
     "execution_count": 306,
     "metadata": {},
     "output_type": "execute_result"
    }
   ],
   "source": [
    "stock.info"
   ]
  },
  {
   "cell_type": "code",
   "execution_count": null,
   "id": "a7a00fce-48a0-445b-927c-2d290e08d517",
   "metadata": {},
   "outputs": [],
   "source": []
  }
 ],
 "metadata": {
  "kernelspec": {
   "display_name": "Python [conda env:base] *",
   "language": "python",
   "name": "conda-base-py"
  },
  "language_info": {
   "codemirror_mode": {
    "name": "ipython",
    "version": 3
   },
   "file_extension": ".py",
   "mimetype": "text/x-python",
   "name": "python",
   "nbconvert_exporter": "python",
   "pygments_lexer": "ipython3",
   "version": "3.12.7"
  }
 },
 "nbformat": 4,
 "nbformat_minor": 5
}
