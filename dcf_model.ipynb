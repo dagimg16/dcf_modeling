{
 "cells": [
  {
   "cell_type": "code",
   "execution_count": 1,
   "id": "d4d268e9-b450-41f4-b4ad-535de6f890c2",
   "metadata": {},
   "outputs": [],
   "source": [
    "import pandas as pd\n",
    "import yfinance as yf\n",
    "from datetime import datetime as dt\n",
    "pd.set_option('future.no_silent_downcasting', True)"
   ]
  },
  {
   "cell_type": "markdown",
   "id": "f36d0dd3-aef3-4994-8def-5d342b1488ef",
   "metadata": {},
   "source": [
    "# Get WACC"
   ]
  },
  {
   "cell_type": "code",
   "execution_count": 4,
   "id": "6883334b-f66e-427d-98c7-f1c64fcdb3f0",
   "metadata": {},
   "outputs": [],
   "source": [
    "def get_risk_free_rate():\n",
    "    \"\"\"\n",
    "    Get the current 10-year Treasury yield (risk-free rate) from an API.\n",
    "    \"\"\"\n",
    "    try:\n",
    "        tnx = yf.Ticker(\"^TNX\")\n",
    "        current_yield = tnx.history(period=\"1d\")['Close'].iloc[-1] * 0.01\n",
    "        return round(current_yield, 3)\n",
    "    except:\n",
    "        return 0.04\n",
    "        \n",
    "def get_wacc(ticker):\n",
    "    stock= yf.Ticker(ticker)\n",
    "    #Get Market Cap\n",
    "    market_cap = stock.info.get('marketCap', 0)\n",
    "\n",
    "    #Get Total Debt\n",
    "    total_debt = stock.balance_sheet.loc['Total Debt'].iloc[0] if 'Total Debt' in stock.balance_sheet else 0\n",
    "\n",
    "    # Get Beta\n",
    "    beta = stock.info.get('beta', 1)\n",
    "\n",
    "    # Get Interest Expense & Total Revenue to estimate Cost of Debt (Rd)\n",
    "    interest_expense = stock.financials.loc['Interest Expense'].iloc[0] if 'Interest Expense' in stock.financials else 0\n",
    "    cost_of_debt = abs(interest_expense / total_debt) if total_debt else 0.05  # Default 5% if no data\n",
    "\n",
    "    # Get Tax Rate\n",
    "    income_tax = stock.financials.loc['Income Tax Expense'].iloc[0] if 'Income Tax Expense' in stock.financials else 0\n",
    "    ebit = stock.financials.loc['EBIT'][0] if 'EBIT' in stock.financials else 0\n",
    "    tax_rate = income_tax / ebit if ebit else 0.21  # Default to 21%\n",
    "\n",
    "    # Get Risk-Free Rate and Market Return (estimated ~8%)\n",
    "    risk_free_rate = get_risk_free_rate()\n",
    "    market_return = 0.08\n",
    "\n",
    "    #Calculate Cost of Equity (Re) using CAPM\n",
    "    cost_of_equity = risk_free_rate + beta * (market_return - risk_free_rate)\n",
    "    \n",
    "    # Total Value (V = E + D)\n",
    "    total_value = market_cap + total_debt\n",
    "\n",
    "    # Calculate WACC\n",
    "    wacc = (market_cap / total_value * cost_of_equity) + (total_debt / total_value * cost_of_debt * (1 - tax_rate))\n",
    "\n",
    "    return round(wacc, 4) \n",
    "    \n",
    "#past 4 year revenue growth\n",
    "def get_revenue_growth(ticker):\n",
    "    stock= yf.Ticker(ticker)\n",
    "    revenue= stock.income_stmt.loc['Total Revenue'].dropna()\n",
    "    revenue = revenue.sort_index()\n",
    "\n",
    "    growth_rates = revenue.pct_change()\n",
    "    avg_growth = pd.Series(growth_rates[1:]).mean()\n",
    "\n",
    "    return avg_growth\n",
    "    \n",
    "#5 year revenue projection\n",
    "def get_revenue_projection(ticker, growth_rate):\n",
    "    stock= yf.Ticker(ticker)\n",
    "    revenue_projection = []\n",
    "    projection_years=[]\n",
    "    last_year = stock.income_stmt.columns[0].year\n",
    "    last_year_revenue= stock.income_stmt.loc['Total Revenue'].iloc[0]/1e9\n",
    "    \n",
    "    for x in range(5):\n",
    "        next_year_revenue = (last_year_revenue * (1 + growth_rate))\n",
    "        revenue_projection.append(round(next_year_revenue, 2))\n",
    "        last_year_revenue = next_year_revenue\n",
    "    \n",
    "        projection_years.append(last_year + (x + 1))\n",
    "        \n",
    "    return pd.Series(revenue_projection, projection_years) \n",
    "\n",
    "def get_ebit_margin(ticker):\n",
    "    stock= yf.Ticker(ticker)\n",
    "    if 'Operating Income' in stock.income_stmt.index:\n",
    "        operating_income = stock.income_stmt.loc['Operating Income'].dropna()\n",
    "        revenue = stock.income_stmt.loc['Total Revenue'].dropna()\n",
    "        operating_margin = operating_income/ revenue\n",
    "        \n",
    "        return operating_margin.mean()\n",
    "        \n",
    "    else:\n",
    "        print(\"Operating Income not found\")\n",
    "        \n",
    "def get_ebit_projection(revenue_projection, ebit_margin):\n",
    "    ebit_projection = []\n",
    "    \n",
    "    for revenue in revenue_projection:\n",
    "        ebit = revenue * ebit_margin\n",
    "        ebit_projection.append(round(ebit, 2))\n",
    "    return pd.Series(ebit_projection, revenue_projection.index) \n",
    "\n",
    "def get_NOPAT(ebit_projection):\n",
    "    ebit_after_tax = []\n",
    "    tax_rate= 0.21\n",
    "\n",
    "    for ebit in ebit_projection:\n",
    "        nopat = ebit * (1 - tax_rate)\n",
    "        ebit_after_tax.append(nopat)\n",
    "    return pd.Series(ebit_after_tax, ebit_projection.index) \n",
    "    \n",
    "def get_depreciation_and_amortization(ticker, projection):\n",
    "    stock= yf.Ticker(ticker)\n",
    "    if 'Depreciation And Amortization' in stock.cashflow.index:\n",
    "        da = stock.cashflow.loc['Depreciation And Amortization'].dropna()/1e9\n",
    "        revenue= stock.income_stmt.loc['Total Revenue'].dropna()/1e9\n",
    "        da_rate = (da/revenue).mean()\n",
    "        return da_rate * projection\n",
    "    else:\n",
    "        print(\"Depreciation & Amortization not found\")\n",
    "\n",
    "def get_capex(ticker, projection):\n",
    "    stock= yf.Ticker(ticker)\n",
    "    if 'Capital Expenditure' in stock.cashflow.index:\n",
    "        capex = abs(stock.cashflow.loc['Capital Expenditure'].dropna()/1e9)\n",
    "        revenue= stock.income_stmt.loc['Total Revenue'].dropna()/1e9\n",
    "        capex_rate = (capex/revenue).mean()\n",
    "        return capex_rate * projection\n",
    "    else:\n",
    "        print(\"Capital Expenditure not found\")\n",
    "\n",
    "def get_workingcapital(ticker, projection):\n",
    "    stock= yf.Ticker(ticker)\n",
    "    if 'Change In Working Capital' in stock.cashflow.index:\n",
    "        nwc = abs(stock.cashflow.loc['Change In Working Capital'].dropna()/1e9)\n",
    "        revenue= stock.income_stmt.loc['Total Revenue'].dropna()/1e9\n",
    "        nwc_rate = (nwc/revenue).mean()\n",
    "        return nwc_rate * projection\n",
    "    else:\n",
    "        print(\"Change In Working Capital not found\")\n",
    "        \n",
    "def get_fcf(NOPAT, da, capex, nwc):\n",
    "    fcf = NOPAT + da - capex - nwc\n",
    "    \n",
    "    return fcf\n",
    "\n",
    "def get_fcf_pv(fcf_projection, wacc):\n",
    "    discounted = []\n",
    "    \n",
    "    for t, fcf in enumerate(fcf_projection, start=1):\n",
    "        pv = fcf/((1 + wacc) ** t)\n",
    "        discounted.append(pv)\n",
    "        \n",
    "    return pd.Series(discounted, fcf_projection.index)  \n",
    "\n",
    "def get_terminal_value(fcf_projection, wacc):\n",
    "    terminal_growth = 0.02\n",
    "    final_year_fcf = fcf_projection.iloc[-1]\n",
    "    \n",
    "    terminal_value = (final_year_fcf * (1 + terminal_growth))/(wacc - terminal_growth)\n",
    "    \n",
    "    return terminal_value\n",
    "\n",
    "def get_pv_tv(tv, wacc):\n",
    "    n = 5\n",
    "    pv_tv= tv/((1 + wacc) ** n)\n",
    "\n",
    "    return pv_tv\n",
    "\n",
    "def get_enterprise_value(pv_fcf, pv_tv):\n",
    "    pv_fcf_sum = pv_fcf.sum()\n",
    "    \n",
    "    ev = pv_fcf_sum + pv_tv\n",
    "\n",
    "    return ev\n",
    "def get_net_debt(ticker):  \n",
    "    stock= yf.Ticker(ticker)\n",
    "    cash = stock.balance_sheet.loc['Cash And Cash Equivalents'].iloc[0] \n",
    "    debt = stock.balance_sheet.loc['Long Term Debt'].iloc[0] \n",
    "    net_debt = debt - cash \n",
    "\n",
    "    return cash/1e9, debt/1e9, net_debt/1e9\n",
    "\n",
    "def get_equity_value(ev, net_debt):\n",
    "    return ev - net_debt\n",
    "\n",
    "def get_implied_share_price(ticker, equity_value):\n",
    "    stock= yf.Ticker(ticker)\n",
    "    share_outstanding = stock.info['sharesOutstanding']/1e9\n",
    "    per_share_value = equity_value / share_outstanding\n",
    "\n",
    "    return share_outstanding, per_share_value"
   ]
  },
  {
   "cell_type": "code",
   "execution_count": 90,
   "id": "0761c29d-754c-4b7f-b076-ed6672a627fb",
   "metadata": {},
   "outputs": [
    {
     "name": "stdout",
     "output_type": "stream",
     "text": [
      "WACC for KO: 0.0643\n"
     ]
    },
    {
     "data": {
      "text/plain": [
       "0.06834047751781329"
      ]
     },
     "execution_count": 90,
     "metadata": {},
     "output_type": "execute_result"
    }
   ],
   "source": [
    "ticker = \"KO\"\n",
    "print(f\"WACC for {ticker}: {get_wacc(ticker)}\")\n",
    "rate = get_revenue_growth(ticker)\n",
    "rate"
   ]
  },
  {
   "cell_type": "code",
   "execution_count": 92,
   "id": "20c3bb47-f206-4a73-a048-6d07e59bd38d",
   "metadata": {},
   "outputs": [],
   "source": [
    "wacc = get_wacc(ticker)"
   ]
  },
  {
   "cell_type": "code",
   "execution_count": 94,
   "id": "4590dca2-626d-40a6-a879-e4c4421b8df2",
   "metadata": {},
   "outputs": [],
   "source": [
    "projection = get_revenue_projection(ticker=ticker, growth_rate= rate)"
   ]
  },
  {
   "cell_type": "code",
   "execution_count": 96,
   "id": "954d5d87-76d0-41e7-928e-3974f81d73c5",
   "metadata": {},
   "outputs": [],
   "source": [
    "ebit_margin= get_ebit_margin(ticker)"
   ]
  },
  {
   "cell_type": "code",
   "execution_count": 98,
   "id": "298fadd7-1eac-4560-befc-94e7bd34a4cd",
   "metadata": {},
   "outputs": [],
   "source": [
    "ebit = get_ebit_projection(projection, ebit_margin)"
   ]
  },
  {
   "cell_type": "code",
   "execution_count": 100,
   "id": "a6dbca0e-ebd5-4f14-b015-ed6a921c54eb",
   "metadata": {},
   "outputs": [],
   "source": [
    "NOPAT = get_NOPAT(ebit)"
   ]
  },
  {
   "cell_type": "code",
   "execution_count": 102,
   "id": "f4466178-6d65-4cd2-ae3c-a39ca049ac63",
   "metadata": {},
   "outputs": [],
   "source": [
    "da_estimite = get_depreciation_and_amortization(ticker, projection)"
   ]
  },
  {
   "cell_type": "code",
   "execution_count": 104,
   "id": "1bf22acf-f911-4ebd-b214-703932f71f10",
   "metadata": {},
   "outputs": [],
   "source": [
    "capex = get_capex(ticker, projection)"
   ]
  },
  {
   "cell_type": "code",
   "execution_count": 106,
   "id": "45301ef8-56d0-4138-8b1e-15272ce30db6",
   "metadata": {},
   "outputs": [],
   "source": [
    "nwc= get_workingcapital(ticker, projection)"
   ]
  },
  {
   "cell_type": "code",
   "execution_count": 108,
   "id": "0eab9a63-3232-48d0-801f-f2dd370c056d",
   "metadata": {},
   "outputs": [],
   "source": [
    "fcf = get_fcf(NOPAT, da_estimite, capex, nwc)"
   ]
  },
  {
   "cell_type": "code",
   "execution_count": 110,
   "id": "30361126-76c1-461d-a2a4-5ac845badcf6",
   "metadata": {},
   "outputs": [],
   "source": [
    "pv_fcf = get_fcf_pv(fcf, wacc)"
   ]
  },
  {
   "cell_type": "code",
   "execution_count": 112,
   "id": "862602ec-7358-43e9-a1b6-1d46468ff93f",
   "metadata": {},
   "outputs": [],
   "source": [
    "tv = get_terminal_value(fcf, wacc)"
   ]
  },
  {
   "cell_type": "code",
   "execution_count": 114,
   "id": "b0e41318-d5ee-4f04-9060-43a543cec7d2",
   "metadata": {},
   "outputs": [],
   "source": [
    "pv_tv = get_pv_tv(tv, wacc)"
   ]
  },
  {
   "cell_type": "code",
   "execution_count": 116,
   "id": "3eafb50f-d893-472d-b6d8-8354e3c47e6a",
   "metadata": {},
   "outputs": [],
   "source": [
    "ev = get_enterprise_value(pv_fcf, pv_tv)"
   ]
  },
  {
   "cell_type": "code",
   "execution_count": 118,
   "id": "39f03858-b616-4043-9e70-f4083a54f949",
   "metadata": {},
   "outputs": [],
   "source": [
    "cash, debt, net_debt = get_net_debt(ticker)"
   ]
  },
  {
   "cell_type": "code",
   "execution_count": 120,
   "id": "ef90710b-e503-496b-8aa0-66b0b2330af4",
   "metadata": {},
   "outputs": [],
   "source": [
    "equity_value = get_equity_value(ev, net_debt)"
   ]
  },
  {
   "cell_type": "code",
   "execution_count": 122,
   "id": "c87645b7-7451-41c4-baec-a9002a1fd8dd",
   "metadata": {},
   "outputs": [],
   "source": [
    "share_count, share_price = get_implied_share_price(ticker, equity_value)"
   ]
  },
  {
   "cell_type": "code",
   "execution_count": 124,
   "id": "110e970d-dbac-4116-82eb-c5fe658e143c",
   "metadata": {},
   "outputs": [],
   "source": [
    "df= pd.concat([projection, ebit, NOPAT, da_estimite, capex,nwc, fcf, pv_fcf ],\n",
    "              keys=['Revenue', 'EBIT','NOPAT (EBIT-TAX)','D&A(+)','CapEX(-)', 'Change in NWC(-)','Unlevered FCF',\n",
    "                    'Present Value of FCF'], axis=1).T"
   ]
  },
  {
   "cell_type": "code",
   "execution_count": 126,
   "id": "d47d86a8-da62-4728-bf4a-9ac3afc6c31f",
   "metadata": {},
   "outputs": [],
   "source": [
    "df2 = pd.DataFrame(data=[tv, pv_tv, ev, cash, debt, equity_value, share_count, share_price], \n",
    "          index=['Terminal Value', 'PV of Terminal Value', 'Enterprise Value', \n",
    "                 'Cash (+)', 'Debt (-)', 'Equity Value', 'Shares Outstanding',\n",
    "                'Implied Share Price'], columns=['2025'])"
   ]
  },
  {
   "cell_type": "code",
   "execution_count": 128,
   "id": "41e1dfb5-497a-4371-8484-eb30521115b6",
   "metadata": {},
   "outputs": [
    {
     "data": {
      "text/html": [
       "<div>\n",
       "<style scoped>\n",
       "    .dataframe tbody tr th:only-of-type {\n",
       "        vertical-align: middle;\n",
       "    }\n",
       "\n",
       "    .dataframe tbody tr th {\n",
       "        vertical-align: top;\n",
       "    }\n",
       "\n",
       "    .dataframe thead th {\n",
       "        text-align: right;\n",
       "    }\n",
       "</style>\n",
       "<table border=\"1\" class=\"dataframe\">\n",
       "  <thead>\n",
       "    <tr style=\"text-align: right;\">\n",
       "      <th></th>\n",
       "      <th>2025</th>\n",
       "      <th>2026</th>\n",
       "      <th>2027</th>\n",
       "      <th>2028</th>\n",
       "      <th>2029</th>\n",
       "    </tr>\n",
       "  </thead>\n",
       "  <tbody>\n",
       "    <tr>\n",
       "      <th>Revenue</th>\n",
       "      <td>50.280000</td>\n",
       "      <td>53.710000</td>\n",
       "      <td>57.380000</td>\n",
       "      <td>61.310000</td>\n",
       "      <td>65.500000</td>\n",
       "    </tr>\n",
       "    <tr>\n",
       "      <th>EBIT</th>\n",
       "      <td>14.450000</td>\n",
       "      <td>15.440000</td>\n",
       "      <td>16.490000</td>\n",
       "      <td>17.620000</td>\n",
       "      <td>18.830000</td>\n",
       "    </tr>\n",
       "    <tr>\n",
       "      <th>NOPAT (EBIT-TAX)</th>\n",
       "      <td>11.415500</td>\n",
       "      <td>12.197600</td>\n",
       "      <td>13.027100</td>\n",
       "      <td>13.919800</td>\n",
       "      <td>14.875700</td>\n",
       "    </tr>\n",
       "    <tr>\n",
       "      <th>D&amp;A(+)</th>\n",
       "      <td>1.437492</td>\n",
       "      <td>1.535555</td>\n",
       "      <td>1.640479</td>\n",
       "      <td>1.752837</td>\n",
       "      <td>1.872628</td>\n",
       "    </tr>\n",
       "    <tr>\n",
       "      <th>CapEX(-)</th>\n",
       "      <td>1.938393</td>\n",
       "      <td>2.070626</td>\n",
       "      <td>2.212112</td>\n",
       "      <td>2.363621</td>\n",
       "      <td>2.525153</td>\n",
       "    </tr>\n",
       "    <tr>\n",
       "      <th>Change in NWC(-)</th>\n",
       "      <td>2.505234</td>\n",
       "      <td>2.676136</td>\n",
       "      <td>2.858996</td>\n",
       "      <td>3.054811</td>\n",
       "      <td>3.263580</td>\n",
       "    </tr>\n",
       "    <tr>\n",
       "      <th>Unlevered FCF</th>\n",
       "      <td>8.409365</td>\n",
       "      <td>8.986393</td>\n",
       "      <td>9.596472</td>\n",
       "      <td>10.254205</td>\n",
       "      <td>10.959594</td>\n",
       "    </tr>\n",
       "    <tr>\n",
       "      <th>Present Value of FCF</th>\n",
       "      <td>7.901311</td>\n",
       "      <td>7.933362</td>\n",
       "      <td>7.960116</td>\n",
       "      <td>7.991821</td>\n",
       "      <td>8.025538</td>\n",
       "    </tr>\n",
       "  </tbody>\n",
       "</table>\n",
       "</div>"
      ],
      "text/plain": [
       "                           2025       2026       2027       2028       2029\n",
       "Revenue               50.280000  53.710000  57.380000  61.310000  65.500000\n",
       "EBIT                  14.450000  15.440000  16.490000  17.620000  18.830000\n",
       "NOPAT (EBIT-TAX)      11.415500  12.197600  13.027100  13.919800  14.875700\n",
       "D&A(+)                 1.437492   1.535555   1.640479   1.752837   1.872628\n",
       "CapEX(-)               1.938393   2.070626   2.212112   2.363621   2.525153\n",
       "Change in NWC(-)       2.505234   2.676136   2.858996   3.054811   3.263580\n",
       "Unlevered FCF          8.409365   8.986393   9.596472  10.254205  10.959594\n",
       "Present Value of FCF   7.901311   7.933362   7.960116   7.991821   8.025538"
      ]
     },
     "execution_count": 128,
     "metadata": {},
     "output_type": "execute_result"
    }
   ],
   "source": [
    "df"
   ]
  },
  {
   "cell_type": "code",
   "execution_count": 130,
   "id": "3f2f057c-aefb-47e0-8363-0ca81ad58b5b",
   "metadata": {},
   "outputs": [
    {
     "data": {
      "text/html": [
       "<div>\n",
       "<style scoped>\n",
       "    .dataframe tbody tr th:only-of-type {\n",
       "        vertical-align: middle;\n",
       "    }\n",
       "\n",
       "    .dataframe tbody tr th {\n",
       "        vertical-align: top;\n",
       "    }\n",
       "\n",
       "    .dataframe thead th {\n",
       "        text-align: right;\n",
       "    }\n",
       "</style>\n",
       "<table border=\"1\" class=\"dataframe\">\n",
       "  <thead>\n",
       "    <tr style=\"text-align: right;\">\n",
       "      <th></th>\n",
       "      <th>2025</th>\n",
       "    </tr>\n",
       "  </thead>\n",
       "  <tbody>\n",
       "    <tr>\n",
       "      <th>Terminal Value</th>\n",
       "      <td>252.342796</td>\n",
       "    </tr>\n",
       "    <tr>\n",
       "      <th>PV of Terminal Value</th>\n",
       "      <td>184.786653</td>\n",
       "    </tr>\n",
       "    <tr>\n",
       "      <th>Enterprise Value</th>\n",
       "      <td>224.598802</td>\n",
       "    </tr>\n",
       "    <tr>\n",
       "      <th>Cash (+)</th>\n",
       "      <td>10.828000</td>\n",
       "    </tr>\n",
       "    <tr>\n",
       "      <th>Debt (-)</th>\n",
       "      <td>42.375000</td>\n",
       "    </tr>\n",
       "    <tr>\n",
       "      <th>Equity Value</th>\n",
       "      <td>193.051802</td>\n",
       "    </tr>\n",
       "    <tr>\n",
       "      <th>Shares Outstanding</th>\n",
       "      <td>4.303570</td>\n",
       "    </tr>\n",
       "    <tr>\n",
       "      <th>Implied Share Price</th>\n",
       "      <td>44.858526</td>\n",
       "    </tr>\n",
       "  </tbody>\n",
       "</table>\n",
       "</div>"
      ],
      "text/plain": [
       "                            2025\n",
       "Terminal Value        252.342796\n",
       "PV of Terminal Value  184.786653\n",
       "Enterprise Value      224.598802\n",
       "Cash (+)               10.828000\n",
       "Debt (-)               42.375000\n",
       "Equity Value          193.051802\n",
       "Shares Outstanding      4.303570\n",
       "Implied Share Price    44.858526"
      ]
     },
     "execution_count": 130,
     "metadata": {},
     "output_type": "execute_result"
    }
   ],
   "source": [
    "df2"
   ]
  },
  {
   "cell_type": "code",
   "execution_count": null,
   "id": "bd943fa7-8748-4d5d-9a40-fee871131d94",
   "metadata": {},
   "outputs": [],
   "source": []
  }
 ],
 "metadata": {
  "kernelspec": {
   "display_name": "Python [conda env:base] *",
   "language": "python",
   "name": "conda-base-py"
  },
  "language_info": {
   "codemirror_mode": {
    "name": "ipython",
    "version": 3
   },
   "file_extension": ".py",
   "mimetype": "text/x-python",
   "name": "python",
   "nbconvert_exporter": "python",
   "pygments_lexer": "ipython3",
   "version": "3.12.7"
  }
 },
 "nbformat": 4,
 "nbformat_minor": 5
}
