{
 "cells": [
  {
   "cell_type": "code",
   "execution_count": 132,
   "id": "d4d268e9-b450-41f4-b4ad-535de6f890c2",
   "metadata": {},
   "outputs": [],
   "source": [
    "import pandas as pd\n",
    "import yfinance as yf\n",
    "from datetime import datetime as dt\n",
    "pd.set_option('future.no_silent_downcasting', True)"
   ]
  },
  {
   "cell_type": "markdown",
   "id": "f36d0dd3-aef3-4994-8def-5d342b1488ef",
   "metadata": {},
   "source": [
    "# Get WACC"
   ]
  },
  {
   "cell_type": "code",
   "execution_count": 476,
   "id": "6883334b-f66e-427d-98c7-f1c64fcdb3f0",
   "metadata": {},
   "outputs": [],
   "source": [
    "def get_risk_free_rate():\n",
    "    \"\"\"\n",
    "    Get the current 10-year Treasury yield (risk-free rate) from an API.\n",
    "    \"\"\"\n",
    "    try:\n",
    "        tnx = yf.Ticker(\"^TNX\")\n",
    "        current_yield = tnx.history(period=\"1d\")['Close'].iloc[-1] * 0.01\n",
    "        return round(current_yield, 3)\n",
    "    except:\n",
    "        return 0.04\n",
    "        \n",
    "def get_wacc(ticker):\n",
    "    stock= yf.Ticker(ticker)\n",
    "    #Get Market Cap\n",
    "    market_cap = stock.info.get('marketCap', 0)\n",
    "\n",
    "    #Get Total Debt\n",
    "    total_debt = stock.balance_sheet.loc['Total Debt'].iloc[0] if 'Total Debt' in stock.balance_sheet else 0\n",
    "\n",
    "    # Get Beta\n",
    "    beta = stock.info.get('beta', 1)\n",
    "\n",
    "    # Get Interest Expense & Total Revenue to estimate Cost of Debt (Rd)\n",
    "    interest_expense = stock.financials.loc['Interest Expense'].iloc[0] if 'Interest Expense' in stock.financials else 0\n",
    "    cost_of_debt = abs(interest_expense / total_debt) if total_debt else 0.05  # Default 5% if no data\n",
    "\n",
    "    # Get Tax Rate\n",
    "    income_tax = stock.financials.loc['Income Tax Expense'].iloc[0] if 'Income Tax Expense' in stock.financials else 0\n",
    "    ebit = stock.financials.loc['EBIT'][0] if 'EBIT' in stock.financials else 0\n",
    "    tax_rate = income_tax / ebit if ebit else 0.21  # Default to 21%\n",
    "\n",
    "    # Get Risk-Free Rate and Market Return (estimated ~8%)\n",
    "    risk_free_rate = get_risk_free_rate()\n",
    "    market_return = 0.08\n",
    "\n",
    "    #Calculate Cost of Equity (Re) using CAPM\n",
    "    cost_of_equity = risk_free_rate + beta * (market_return - risk_free_rate)\n",
    "    \n",
    "    # Total Value (V = E + D)\n",
    "    total_value = market_cap + total_debt\n",
    "\n",
    "    # Calculate WACC\n",
    "    wacc = (market_cap / total_value * cost_of_equity) + (total_debt / total_value * cost_of_debt * (1 - tax_rate))\n",
    "\n",
    "    return round(wacc, 4) \n",
    "    \n",
    "#past 4 year revenue growth\n",
    "def get_revenue_growth(ticker):\n",
    "    stock= yf.Ticker(ticker)\n",
    "    revenue= stock.income_stmt.loc['Total Revenue'].dropna() /1e9\n",
    "    revenue = revenue.sort_index()\n",
    "\n",
    "    growth_rates = revenue.pct_change()\n",
    "    avg_growth = pd.Series(growth_rates[1:]).mean()\n",
    "\n",
    "    return revenue, avg_growth\n",
    "    \n",
    "#5 year revenue projection\n",
    "def get_revenue_projection(ticker, growth_rate):\n",
    "    stock= yf.Ticker(ticker)\n",
    "    revenue_projection = []\n",
    "    projection_years=[]\n",
    "    last_year = stock.income_stmt.columns[0].year\n",
    "    last_year_revenue= stock.income_stmt.loc['Total Revenue'].iloc[0]/1e9\n",
    "    \n",
    "    for x in range(5):\n",
    "        next_year_revenue = (last_year_revenue * (1 + growth_rate))\n",
    "        revenue_projection.append(round(next_year_revenue, 2))\n",
    "        last_year_revenue = next_year_revenue\n",
    "    \n",
    "        projection_years.append(last_year + (x + 1))\n",
    "        \n",
    "    return pd.Series(revenue_projection, projection_years) \n",
    "\n",
    "def get_ebit_margin(ticker):\n",
    "    stock= yf.Ticker(ticker)\n",
    "    if 'Operating Income' in stock.income_stmt.index:\n",
    "        operating_income = stock.income_stmt.loc['Operating Income'].dropna()\n",
    "        revenue = stock.income_stmt.loc['Total Revenue'].dropna()\n",
    "        operating_margin = operating_income/ revenue\n",
    "        \n",
    "        return operating_income/1e9, operating_margin,  operating_margin.mean()\n",
    "        \n",
    "    else:\n",
    "        print(\"Operating Income not found\")\n",
    "        \n",
    "def get_ebit_projection(revenue_projection, ebit_margin):\n",
    "    ebit_projection = []\n",
    "    \n",
    "    for revenue in revenue_projection:\n",
    "        ebit = revenue * ebit_margin\n",
    "        ebit_projection.append(round(ebit, 2))\n",
    "    return pd.Series(ebit_projection, revenue_projection.index) \n",
    "\n",
    "def get_NOPAT(ebit_projection):\n",
    "    ebit_after_tax = []\n",
    "    tax_rate= 0.21\n",
    "\n",
    "    for ebit in ebit_projection:\n",
    "        nopat = ebit * (1 - tax_rate)\n",
    "        ebit_after_tax.append(nopat)\n",
    "    return pd.Series(ebit_after_tax, ebit_projection.index) \n",
    "    \n",
    "def get_depreciation_and_amortization(ticker, projection):\n",
    "    stock= yf.Ticker(ticker)\n",
    "    if 'Depreciation And Amortization' in stock.cashflow.index:\n",
    "        da = stock.cashflow.loc['Depreciation And Amortization'].dropna()/1e9\n",
    "        revenue= stock.income_stmt.loc['Total Revenue'].dropna()/1e9\n",
    "        da_rate = (da/revenue).mean()\n",
    "        return da, da_rate * projection\n",
    "    else:\n",
    "        print(\"Depreciation & Amortization not found\")\n",
    "\n",
    "def get_capex(ticker, projection):\n",
    "    stock= yf.Ticker(ticker)\n",
    "    if 'Capital Expenditure' in stock.cashflow.index:\n",
    "        capex = abs(stock.cashflow.loc['Capital Expenditure'].dropna()/1e9)\n",
    "        revenue= stock.income_stmt.loc['Total Revenue'].dropna()/1e9\n",
    "        capex_rate = (capex/revenue).mean()\n",
    "        return capex_rate * projection\n",
    "    else:\n",
    "        print(\"Capital Expenditure not found\")\n",
    "\n",
    "def get_workingcapital(ticker, projection):\n",
    "    stock= yf.Ticker(ticker)\n",
    "    if 'Change In Working Capital' in stock.cashflow.index:\n",
    "        nwc = abs(stock.cashflow.loc['Change In Working Capital'].dropna()/1e9)\n",
    "        revenue= stock.income_stmt.loc['Total Revenue'].dropna()/1e9\n",
    "        nwc_rate = (nwc/revenue).mean()\n",
    "        return nwc_rate * projection\n",
    "    else:\n",
    "        print(\"Change In Working Capital not found\")\n",
    "        \n",
    "def get_fcf(NOPAT, da, capex, nwc):\n",
    "    fcf = NOPAT + da - capex - nwc\n",
    "    \n",
    "    return fcf\n",
    "\n",
    "def get_fcf_pv(fcf_projection, wacc):\n",
    "    discounted = []\n",
    "    \n",
    "    for t, fcf in enumerate(fcf_projection, start=1):\n",
    "        pv = fcf/((1 + wacc) ** t)\n",
    "        discounted.append(pv)\n",
    "        \n",
    "    return pd.Series(discounted, fcf_projection.index)  \n",
    "\n",
    "def get_terminal_value(fcf_projection, wacc):\n",
    "    terminal_growth = 0.02\n",
    "    final_year_fcf = fcf_projection.iloc[-1]\n",
    "    \n",
    "    terminal_value = (final_year_fcf * (1 + terminal_growth))/(wacc - terminal_growth)\n",
    "    \n",
    "    return terminal_value\n",
    "\n",
    "def get_pv_tv(tv, wacc):\n",
    "    n = 5\n",
    "    pv_tv= tv/((1 + wacc) ** n)\n",
    "\n",
    "    return pv_tv\n",
    "\n",
    "def get_enterprise_value(pv_fcf, pv_tv):\n",
    "    pv_fcf_sum = pv_fcf.sum()\n",
    "    \n",
    "    ev = pv_fcf_sum + pv_tv\n",
    "\n",
    "    return ev\n",
    "def get_net_debt(ticker):  \n",
    "    stock= yf.Ticker(ticker)\n",
    "    cash = stock.balance_sheet.loc['Cash And Cash Equivalents'].iloc[0] \n",
    "    debt = stock.balance_sheet.loc['Long Term Debt'].iloc[0] \n",
    "    net_debt = debt - cash \n",
    "\n",
    "    return cash/1e9, debt/1e9, net_debt/1e9\n",
    "\n",
    "def get_equity_value(ev, net_debt):\n",
    "    return ev - net_debt\n",
    "\n",
    "def get_implied_share_price(ticker, equity_value):\n",
    "    stock= yf.Ticker(ticker)\n",
    "    share_outstanding = stock.info['sharesOutstanding']/1e9\n",
    "    per_share_value = equity_value / share_outstanding\n",
    "\n",
    "    return share_outstanding, per_share_value\n",
    "\n",
    "def change_timestamp_to_year(value):\n",
    "    return value.groupby(value.index.year).sum()\n",
    "\n",
    "def get_total_cash(ticker, past_revenue):\n",
    "    stock= yf.Ticker(ticker)\n",
    "    total_cash = stock.balance_sheet.loc['Cash Cash Equivalents And Short Term Investments'].dropna() /1e9\n",
    "    total_cash = change_timestamp_to_year(total_cash)\n",
    "    cash_margin = (total_cash / past_revenue).mean()\n",
    "\n",
    "    return cash_margin, total_cash"
   ]
  },
  {
   "cell_type": "code",
   "execution_count": 263,
   "id": "0761c29d-754c-4b7f-b076-ed6672a627fb",
   "metadata": {},
   "outputs": [
    {
     "name": "stdout",
     "output_type": "stream",
     "text": [
      "WACC for AAPL: 0.0866\n"
     ]
    },
    {
     "data": {
      "text/plain": [
       "0.02338440383792924"
      ]
     },
     "execution_count": 263,
     "metadata": {},
     "output_type": "execute_result"
    }
   ],
   "source": [
    "ticker = \"AAPL\"\n",
    "print(f\"WACC for {ticker}: {get_wacc(ticker)}\")\n",
    "past_revenue, rate = get_revenue_growth(ticker)\n",
    "rate"
   ]
  },
  {
   "cell_type": "code",
   "execution_count": 203,
   "id": "20c3bb47-f206-4a73-a048-6d07e59bd38d",
   "metadata": {},
   "outputs": [],
   "source": [
    "wacc = get_wacc(ticker)"
   ]
  },
  {
   "cell_type": "code",
   "execution_count": 205,
   "id": "4590dca2-626d-40a6-a879-e4c4421b8df2",
   "metadata": {},
   "outputs": [],
   "source": [
    "projection = get_revenue_projection(ticker=ticker, growth_rate= rate)"
   ]
  },
  {
   "cell_type": "code",
   "execution_count": 393,
   "id": "954d5d87-76d0-41e7-928e-3974f81d73c5",
   "metadata": {},
   "outputs": [],
   "source": [
    "past_ebit, past_ebit_margin, ebit_margin= get_ebit_margin(ticker)"
   ]
  },
  {
   "cell_type": "code",
   "execution_count": 209,
   "id": "298fadd7-1eac-4560-befc-94e7bd34a4cd",
   "metadata": {},
   "outputs": [],
   "source": [
    "ebit = get_ebit_projection(projection, ebit_margin)"
   ]
  },
  {
   "cell_type": "code",
   "execution_count": 211,
   "id": "a6dbca0e-ebd5-4f14-b015-ed6a921c54eb",
   "metadata": {},
   "outputs": [],
   "source": [
    "NOPAT = get_NOPAT(ebit)"
   ]
  },
  {
   "cell_type": "code",
   "execution_count": 409,
   "id": "f4466178-6d65-4cd2-ae3c-a39ca049ac63",
   "metadata": {},
   "outputs": [],
   "source": [
    "past_da, da_estimite = get_depreciation_and_amortization(ticker, projection)"
   ]
  },
  {
   "cell_type": "code",
   "execution_count": 215,
   "id": "1bf22acf-f911-4ebd-b214-703932f71f10",
   "metadata": {},
   "outputs": [],
   "source": [
    "capex = get_capex(ticker, projection)"
   ]
  },
  {
   "cell_type": "code",
   "execution_count": 217,
   "id": "45301ef8-56d0-4138-8b1e-15272ce30db6",
   "metadata": {},
   "outputs": [],
   "source": [
    "nwc= get_workingcapital(ticker, projection)"
   ]
  },
  {
   "cell_type": "code",
   "execution_count": 219,
   "id": "0eab9a63-3232-48d0-801f-f2dd370c056d",
   "metadata": {},
   "outputs": [],
   "source": [
    "fcf = get_fcf(NOPAT, da_estimite, capex, nwc)"
   ]
  },
  {
   "cell_type": "code",
   "execution_count": 221,
   "id": "30361126-76c1-461d-a2a4-5ac845badcf6",
   "metadata": {},
   "outputs": [],
   "source": [
    "pv_fcf = get_fcf_pv(fcf, wacc)"
   ]
  },
  {
   "cell_type": "code",
   "execution_count": 223,
   "id": "862602ec-7358-43e9-a1b6-1d46468ff93f",
   "metadata": {},
   "outputs": [],
   "source": [
    "tv = get_terminal_value(fcf, wacc)"
   ]
  },
  {
   "cell_type": "code",
   "execution_count": 225,
   "id": "b0e41318-d5ee-4f04-9060-43a543cec7d2",
   "metadata": {},
   "outputs": [],
   "source": [
    "pv_tv = get_pv_tv(tv, wacc)"
   ]
  },
  {
   "cell_type": "code",
   "execution_count": 227,
   "id": "3eafb50f-d893-472d-b6d8-8354e3c47e6a",
   "metadata": {},
   "outputs": [],
   "source": [
    "ev = get_enterprise_value(pv_fcf, pv_tv)"
   ]
  },
  {
   "cell_type": "code",
   "execution_count": 229,
   "id": "39f03858-b616-4043-9e70-f4083a54f949",
   "metadata": {},
   "outputs": [],
   "source": [
    "cash, debt, net_debt = get_net_debt(ticker)"
   ]
  },
  {
   "cell_type": "code",
   "execution_count": 231,
   "id": "ef90710b-e503-496b-8aa0-66b0b2330af4",
   "metadata": {},
   "outputs": [],
   "source": [
    "equity_value = get_equity_value(ev, net_debt)"
   ]
  },
  {
   "cell_type": "code",
   "execution_count": 233,
   "id": "c87645b7-7451-41c4-baec-a9002a1fd8dd",
   "metadata": {},
   "outputs": [],
   "source": [
    "share_count, share_price = get_implied_share_price(ticker, equity_value)"
   ]
  },
  {
   "cell_type": "code",
   "execution_count": 235,
   "id": "110e970d-dbac-4116-82eb-c5fe658e143c",
   "metadata": {},
   "outputs": [],
   "source": [
    "df= pd.concat([projection, ebit, NOPAT, da_estimite, capex,nwc, fcf, pv_fcf ],\n",
    "              keys=['Revenue', 'EBIT','NOPAT (EBIT-TAX)','D&A(+)','CapEX(-)', 'Change in NWC(-)','Unlevered FCF',\n",
    "                    'Present Value of FCF'], axis=1).T"
   ]
  },
  {
   "cell_type": "code",
   "execution_count": 237,
   "id": "d47d86a8-da62-4728-bf4a-9ac3afc6c31f",
   "metadata": {},
   "outputs": [],
   "source": [
    "df2 = pd.DataFrame(data=[tv, pv_tv, ev, cash, debt, equity_value, share_count, share_price], \n",
    "          index=['Terminal Value', 'PV of Terminal Value', 'Enterprise Value', \n",
    "                 'Cash (+)', 'Debt (-)', 'Equity Value', 'Shares Outstanding',\n",
    "                'Implied Share Price'], columns=['2025'])"
   ]
  },
  {
   "cell_type": "code",
   "execution_count": 239,
   "id": "41e1dfb5-497a-4371-8484-eb30521115b6",
   "metadata": {},
   "outputs": [
    {
     "data": {
      "text/html": [
       "<div>\n",
       "<style scoped>\n",
       "    .dataframe tbody tr th:only-of-type {\n",
       "        vertical-align: middle;\n",
       "    }\n",
       "\n",
       "    .dataframe tbody tr th {\n",
       "        vertical-align: top;\n",
       "    }\n",
       "\n",
       "    .dataframe thead th {\n",
       "        text-align: right;\n",
       "    }\n",
       "</style>\n",
       "<table border=\"1\" class=\"dataframe\">\n",
       "  <thead>\n",
       "    <tr style=\"text-align: right;\">\n",
       "      <th></th>\n",
       "      <th>2025</th>\n",
       "      <th>2026</th>\n",
       "      <th>2027</th>\n",
       "      <th>2028</th>\n",
       "      <th>2029</th>\n",
       "    </tr>\n",
       "  </thead>\n",
       "  <tbody>\n",
       "    <tr>\n",
       "      <th>Revenue</th>\n",
       "      <td>400.180000</td>\n",
       "      <td>409.540000</td>\n",
       "      <td>419.110000</td>\n",
       "      <td>428.910000</td>\n",
       "      <td>438.940000</td>\n",
       "    </tr>\n",
       "    <tr>\n",
       "      <th>EBIT</th>\n",
       "      <td>121.460000</td>\n",
       "      <td>124.300000</td>\n",
       "      <td>127.200000</td>\n",
       "      <td>130.180000</td>\n",
       "      <td>133.220000</td>\n",
       "    </tr>\n",
       "    <tr>\n",
       "      <th>NOPAT (EBIT-TAX)</th>\n",
       "      <td>95.953400</td>\n",
       "      <td>98.197000</td>\n",
       "      <td>100.488000</td>\n",
       "      <td>102.842200</td>\n",
       "      <td>105.243800</td>\n",
       "    </tr>\n",
       "    <tr>\n",
       "      <th>D&amp;A(+)</th>\n",
       "      <td>11.838040</td>\n",
       "      <td>12.114926</td>\n",
       "      <td>12.398024</td>\n",
       "      <td>12.687925</td>\n",
       "      <td>12.984631</td>\n",
       "    </tr>\n",
       "    <tr>\n",
       "      <th>CapEX(-)</th>\n",
       "      <td>11.025795</td>\n",
       "      <td>11.283683</td>\n",
       "      <td>11.547356</td>\n",
       "      <td>11.817367</td>\n",
       "      <td>12.093714</td>\n",
       "    </tr>\n",
       "    <tr>\n",
       "      <th>Change in NWC(-)</th>\n",
       "      <td>4.298355</td>\n",
       "      <td>4.398891</td>\n",
       "      <td>4.501683</td>\n",
       "      <td>4.606945</td>\n",
       "      <td>4.714678</td>\n",
       "    </tr>\n",
       "    <tr>\n",
       "      <th>Unlevered FCF</th>\n",
       "      <td>92.467291</td>\n",
       "      <td>94.629352</td>\n",
       "      <td>96.836985</td>\n",
       "      <td>99.105813</td>\n",
       "      <td>101.420039</td>\n",
       "    </tr>\n",
       "    <tr>\n",
       "      <th>Present Value of FCF</th>\n",
       "      <td>85.097819</td>\n",
       "      <td>80.146852</td>\n",
       "      <td>75.480046</td>\n",
       "      <td>71.091934</td>\n",
       "      <td>66.953806</td>\n",
       "    </tr>\n",
       "  </tbody>\n",
       "</table>\n",
       "</div>"
      ],
      "text/plain": [
       "                            2025        2026        2027        2028  \\\n",
       "Revenue               400.180000  409.540000  419.110000  428.910000   \n",
       "EBIT                  121.460000  124.300000  127.200000  130.180000   \n",
       "NOPAT (EBIT-TAX)       95.953400   98.197000  100.488000  102.842200   \n",
       "D&A(+)                 11.838040   12.114926   12.398024   12.687925   \n",
       "CapEX(-)               11.025795   11.283683   11.547356   11.817367   \n",
       "Change in NWC(-)        4.298355    4.398891    4.501683    4.606945   \n",
       "Unlevered FCF          92.467291   94.629352   96.836985   99.105813   \n",
       "Present Value of FCF   85.097819   80.146852   75.480046   71.091934   \n",
       "\n",
       "                            2029  \n",
       "Revenue               438.940000  \n",
       "EBIT                  133.220000  \n",
       "NOPAT (EBIT-TAX)      105.243800  \n",
       "D&A(+)                 12.984631  \n",
       "CapEX(-)               12.093714  \n",
       "Change in NWC(-)        4.714678  \n",
       "Unlevered FCF         101.420039  \n",
       "Present Value of FCF   66.953806  "
      ]
     },
     "execution_count": 239,
     "metadata": {},
     "output_type": "execute_result"
    }
   ],
   "source": [
    "df"
   ]
  },
  {
   "cell_type": "code",
   "execution_count": 430,
   "id": "eadee900-1159-40a3-8cc6-def6ccf5789c",
   "metadata": {},
   "outputs": [
    {
     "data": {
      "text/html": [
       "<div>\n",
       "<style scoped>\n",
       "    .dataframe tbody tr th:only-of-type {\n",
       "        vertical-align: middle;\n",
       "    }\n",
       "\n",
       "    .dataframe tbody tr th {\n",
       "        vertical-align: top;\n",
       "    }\n",
       "\n",
       "    .dataframe thead th {\n",
       "        text-align: right;\n",
       "    }\n",
       "</style>\n",
       "<table border=\"1\" class=\"dataframe\">\n",
       "  <thead>\n",
       "    <tr style=\"text-align: right;\">\n",
       "      <th></th>\n",
       "      <th>2025</th>\n",
       "    </tr>\n",
       "  </thead>\n",
       "  <tbody>\n",
       "    <tr>\n",
       "      <th>Terminal Value</th>\n",
       "      <td>1553.279870</td>\n",
       "    </tr>\n",
       "    <tr>\n",
       "      <th>PV of Terminal Value</th>\n",
       "      <td>1025.418646</td>\n",
       "    </tr>\n",
       "    <tr>\n",
       "      <th>Enterprise Value</th>\n",
       "      <td>1404.189103</td>\n",
       "    </tr>\n",
       "    <tr>\n",
       "      <th>Cash (+)</th>\n",
       "      <td>29.943000</td>\n",
       "    </tr>\n",
       "    <tr>\n",
       "      <th>Debt (-)</th>\n",
       "      <td>85.750000</td>\n",
       "    </tr>\n",
       "    <tr>\n",
       "      <th>Equity Value</th>\n",
       "      <td>1348.382103</td>\n",
       "    </tr>\n",
       "    <tr>\n",
       "      <th>Shares Outstanding</th>\n",
       "      <td>15.022100</td>\n",
       "    </tr>\n",
       "    <tr>\n",
       "      <th>Implied Share Price</th>\n",
       "      <td>89.759891</td>\n",
       "    </tr>\n",
       "  </tbody>\n",
       "</table>\n",
       "</div>"
      ],
      "text/plain": [
       "                             2025\n",
       "Terminal Value        1553.279870\n",
       "PV of Terminal Value  1025.418646\n",
       "Enterprise Value      1404.189103\n",
       "Cash (+)                29.943000\n",
       "Debt (-)                85.750000\n",
       "Equity Value          1348.382103\n",
       "Shares Outstanding      15.022100\n",
       "Implied Share Price     89.759891"
      ]
     },
     "execution_count": 430,
     "metadata": {},
     "output_type": "execute_result"
    }
   ],
   "source": [
    "df2"
   ]
  },
  {
   "cell_type": "markdown",
   "id": "3a502053-a34f-4e97-861e-ef6591ffec84",
   "metadata": {},
   "source": [
    "# Operating Data"
   ]
  },
  {
   "cell_type": "code",
   "execution_count": 365,
   "id": "dd56dc9a-4b5d-415c-99c4-1a513e3718c3",
   "metadata": {},
   "outputs": [],
   "source": [
    "past_revenue = change_timestamp_to_year(past_revenue)"
   ]
  },
  {
   "cell_type": "code",
   "execution_count": 369,
   "id": "fe6229e1-5cd3-474b-9775-c10bb799b51d",
   "metadata": {},
   "outputs": [],
   "source": [
    "revenue_output = pd.concat([past_revenue, projection])"
   ]
  },
  {
   "cell_type": "code",
   "execution_count": 371,
   "id": "c53d97e6-adea-4fc8-a0e7-ce543febab2d",
   "metadata": {},
   "outputs": [],
   "source": [
    "revenue_pct_change = revenue_output.pct_change()"
   ]
  },
  {
   "cell_type": "code",
   "execution_count": 363,
   "id": "40f63f60-5faf-4137-a452-636213050810",
   "metadata": {},
   "outputs": [],
   "source": [
    "past_ebit = change_timestamp_to_year(past_ebit)"
   ]
  },
  {
   "cell_type": "code",
   "execution_count": 377,
   "id": "491ce7a9-e15a-45ac-80c8-443e18030f32",
   "metadata": {},
   "outputs": [],
   "source": [
    "ebit_output = pd.concat([past_ebit, ebit])"
   ]
  },
  {
   "cell_type": "code",
   "execution_count": 403,
   "id": "d4a4ae97-353d-4bf8-bd5c-638ed2aab146",
   "metadata": {},
   "outputs": [],
   "source": [
    "ebit_margin_output = ebit_output / revenue_output"
   ]
  },
  {
   "cell_type": "code",
   "execution_count": 419,
   "id": "e4d76f14-d710-4d67-82b4-1f1cdfe2881d",
   "metadata": {},
   "outputs": [],
   "source": [
    "da_output = pd.concat([past_da, da_estimite])"
   ]
  },
  {
   "cell_type": "code",
   "execution_count": 423,
   "id": "f82baf80-9699-47d1-844b-432098ad3b02",
   "metadata": {},
   "outputs": [],
   "source": [
    "da_rate_output = da_output / revenue_output"
   ]
  },
  {
   "cell_type": "code",
   "execution_count": 425,
   "id": "74bd77cc-cf65-440a-8249-be419605aebb",
   "metadata": {},
   "outputs": [
    {
     "data": {
      "text/html": [
       "<div>\n",
       "<style scoped>\n",
       "    .dataframe tbody tr th:only-of-type {\n",
       "        vertical-align: middle;\n",
       "    }\n",
       "\n",
       "    .dataframe tbody tr th {\n",
       "        vertical-align: top;\n",
       "    }\n",
       "\n",
       "    .dataframe thead th {\n",
       "        text-align: right;\n",
       "    }\n",
       "</style>\n",
       "<table border=\"1\" class=\"dataframe\">\n",
       "  <thead>\n",
       "    <tr style=\"text-align: right;\">\n",
       "      <th></th>\n",
       "      <th>2021</th>\n",
       "      <th>2022</th>\n",
       "      <th>2023</th>\n",
       "      <th>2024</th>\n",
       "      <th>2025</th>\n",
       "      <th>2026</th>\n",
       "      <th>2027</th>\n",
       "      <th>2028</th>\n",
       "      <th>2029</th>\n",
       "    </tr>\n",
       "  </thead>\n",
       "  <tbody>\n",
       "    <tr>\n",
       "      <th>Revenue</th>\n",
       "      <td>365.817000</td>\n",
       "      <td>394.328000</td>\n",
       "      <td>383.285000</td>\n",
       "      <td>391.035000</td>\n",
       "      <td>400.180000</td>\n",
       "      <td>409.540000</td>\n",
       "      <td>419.110000</td>\n",
       "      <td>428.910000</td>\n",
       "      <td>438.940000</td>\n",
       "    </tr>\n",
       "    <tr>\n",
       "      <th>Revenue %</th>\n",
       "      <td>NaN</td>\n",
       "      <td>0.077938</td>\n",
       "      <td>-0.028005</td>\n",
       "      <td>0.020220</td>\n",
       "      <td>0.023387</td>\n",
       "      <td>0.023389</td>\n",
       "      <td>0.023368</td>\n",
       "      <td>0.023383</td>\n",
       "      <td>0.023385</td>\n",
       "    </tr>\n",
       "    <tr>\n",
       "      <th>EBIT</th>\n",
       "      <td>108.949000</td>\n",
       "      <td>119.437000</td>\n",
       "      <td>114.301000</td>\n",
       "      <td>123.216000</td>\n",
       "      <td>121.460000</td>\n",
       "      <td>124.300000</td>\n",
       "      <td>127.200000</td>\n",
       "      <td>130.180000</td>\n",
       "      <td>133.220000</td>\n",
       "    </tr>\n",
       "    <tr>\n",
       "      <th>EBIT %</th>\n",
       "      <td>0.297824</td>\n",
       "      <td>0.302887</td>\n",
       "      <td>0.298214</td>\n",
       "      <td>0.315102</td>\n",
       "      <td>0.303513</td>\n",
       "      <td>0.303511</td>\n",
       "      <td>0.303500</td>\n",
       "      <td>0.303514</td>\n",
       "      <td>0.303504</td>\n",
       "    </tr>\n",
       "    <tr>\n",
       "      <th>Depreciation</th>\n",
       "      <td>11.284000</td>\n",
       "      <td>11.104000</td>\n",
       "      <td>11.519000</td>\n",
       "      <td>11.445000</td>\n",
       "      <td>11.838040</td>\n",
       "      <td>12.114926</td>\n",
       "      <td>12.398024</td>\n",
       "      <td>12.687925</td>\n",
       "      <td>12.984631</td>\n",
       "    </tr>\n",
       "    <tr>\n",
       "      <th>Depreciation %</th>\n",
       "      <td>0.030846</td>\n",
       "      <td>0.028159</td>\n",
       "      <td>0.030053</td>\n",
       "      <td>0.029268</td>\n",
       "      <td>0.029582</td>\n",
       "      <td>0.029582</td>\n",
       "      <td>0.029582</td>\n",
       "      <td>0.029582</td>\n",
       "      <td>0.029582</td>\n",
       "    </tr>\n",
       "  </tbody>\n",
       "</table>\n",
       "</div>"
      ],
      "text/plain": [
       "                      2021        2022        2023        2024        2025  \\\n",
       "Revenue         365.817000  394.328000  383.285000  391.035000  400.180000   \n",
       "Revenue %              NaN    0.077938   -0.028005    0.020220    0.023387   \n",
       "EBIT            108.949000  119.437000  114.301000  123.216000  121.460000   \n",
       "EBIT %            0.297824    0.302887    0.298214    0.315102    0.303513   \n",
       "Depreciation     11.284000   11.104000   11.519000   11.445000   11.838040   \n",
       "Depreciation %    0.030846    0.028159    0.030053    0.029268    0.029582   \n",
       "\n",
       "                      2026        2027        2028        2029  \n",
       "Revenue         409.540000  419.110000  428.910000  438.940000  \n",
       "Revenue %         0.023389    0.023368    0.023383    0.023385  \n",
       "EBIT            124.300000  127.200000  130.180000  133.220000  \n",
       "EBIT %            0.303511    0.303500    0.303514    0.303504  \n",
       "Depreciation     12.114926   12.398024   12.687925   12.984631  \n",
       "Depreciation %    0.029582    0.029582    0.029582    0.029582  "
      ]
     },
     "execution_count": 425,
     "metadata": {},
     "output_type": "execute_result"
    }
   ],
   "source": [
    "pd.DataFrame(data=[revenue_output, revenue_pct_change, ebit_output, ebit_margin_output, da_output, da_rate_output],\n",
    "            index=['Revenue','Revenue %', 'EBIT', 'EBIT %','Depreciation', 'Depreciation %'])"
   ]
  },
  {
   "cell_type": "markdown",
   "id": "c0f5f995-6ed8-4b88-b75d-f00b18555272",
   "metadata": {},
   "source": [
    "# Balance Sheet"
   ]
  },
  {
   "cell_type": "code",
   "execution_count": 488,
   "id": "7d6787f3-0ead-4876-938c-fcc55b7eb380",
   "metadata": {},
   "outputs": [],
   "source": [
    "cash_margin, past_total_cash = get_total_cash(ticker, past_revenue)"
   ]
  },
  {
   "cell_type": "code",
   "execution_count": 490,
   "id": "252e17f1-c49b-42a7-8983-79e10d65ed5c",
   "metadata": {},
   "outputs": [],
   "source": [
    "total_cash_estimite = projection * cash_margin"
   ]
  },
  {
   "cell_type": "code",
   "execution_count": 496,
   "id": "bb435f52-5af1-4295-8e3d-da4a501aa1f3",
   "metadata": {},
   "outputs": [],
   "source": [
    "total_cash_output = pd.concat([past_total_cash, total_cash_estimite])"
   ]
  },
  {
   "cell_type": "code",
   "execution_count": 498,
   "id": "15db151b-d60a-4fb2-a488-9684306ac27f",
   "metadata": {},
   "outputs": [],
   "source": [
    "cash_margin_output = total_cash_output / revenue_output"
   ]
  },
  {
   "cell_type": "code",
   "execution_count": 500,
   "id": "3d591dc3-8387-4570-9409-0125ce484b82",
   "metadata": {},
   "outputs": [
    {
     "data": {
      "text/html": [
       "<div>\n",
       "<style scoped>\n",
       "    .dataframe tbody tr th:only-of-type {\n",
       "        vertical-align: middle;\n",
       "    }\n",
       "\n",
       "    .dataframe tbody tr th {\n",
       "        vertical-align: top;\n",
       "    }\n",
       "\n",
       "    .dataframe thead th {\n",
       "        text-align: right;\n",
       "    }\n",
       "</style>\n",
       "<table border=\"1\" class=\"dataframe\">\n",
       "  <thead>\n",
       "    <tr style=\"text-align: right;\">\n",
       "      <th></th>\n",
       "      <th>2021</th>\n",
       "      <th>2022</th>\n",
       "      <th>2023</th>\n",
       "      <th>2024</th>\n",
       "      <th>2025</th>\n",
       "      <th>2026</th>\n",
       "      <th>2027</th>\n",
       "      <th>2028</th>\n",
       "      <th>2029</th>\n",
       "    </tr>\n",
       "  </thead>\n",
       "  <tbody>\n",
       "    <tr>\n",
       "      <th>Total Cash</th>\n",
       "      <td>62.63900</td>\n",
       "      <td>48.304000</td>\n",
       "      <td>61.555000</td>\n",
       "      <td>65.171000</td>\n",
       "      <td>62.126822</td>\n",
       "      <td>63.579935</td>\n",
       "      <td>65.065651</td>\n",
       "      <td>66.587074</td>\n",
       "      <td>68.144203</td>\n",
       "    </tr>\n",
       "    <tr>\n",
       "      <th>Total Cash %</th>\n",
       "      <td>0.17123</td>\n",
       "      <td>0.122497</td>\n",
       "      <td>0.160599</td>\n",
       "      <td>0.166663</td>\n",
       "      <td>0.155247</td>\n",
       "      <td>0.155247</td>\n",
       "      <td>0.155247</td>\n",
       "      <td>0.155247</td>\n",
       "      <td>0.155247</td>\n",
       "    </tr>\n",
       "  </tbody>\n",
       "</table>\n",
       "</div>"
      ],
      "text/plain": [
       "                  2021       2022       2023       2024       2025       2026  \\\n",
       "Total Cash    62.63900  48.304000  61.555000  65.171000  62.126822  63.579935   \n",
       "Total Cash %   0.17123   0.122497   0.160599   0.166663   0.155247   0.155247   \n",
       "\n",
       "                   2027       2028       2029  \n",
       "Total Cash    65.065651  66.587074  68.144203  \n",
       "Total Cash %   0.155247   0.155247   0.155247  "
      ]
     },
     "execution_count": 500,
     "metadata": {},
     "output_type": "execute_result"
    }
   ],
   "source": [
    "pd.DataFrame(data=[total_cash_output, cash_margin_output],\n",
    "            index=['Total Cash', 'Total Cash %'])"
   ]
  },
  {
   "cell_type": "code",
   "execution_count": 450,
   "id": "c8750909-17ab-455e-aa79-bdad8fbdf2b9",
   "metadata": {},
   "outputs": [
    {
     "data": {
      "text/plain": [
       "Index(['Treasury Shares Number', 'Ordinary Shares Number', 'Share Issued',\n",
       "       'Net Debt', 'Total Debt', 'Tangible Book Value', 'Invested Capital',\n",
       "       'Working Capital', 'Net Tangible Assets', 'Capital Lease Obligations',\n",
       "       'Common Stock Equity', 'Total Capitalization',\n",
       "       'Total Equity Gross Minority Interest', 'Stockholders Equity',\n",
       "       'Gains Losses Not Affecting Retained Earnings',\n",
       "       'Other Equity Adjustments', 'Retained Earnings', 'Capital Stock',\n",
       "       'Common Stock', 'Total Liabilities Net Minority Interest',\n",
       "       'Total Non Current Liabilities Net Minority Interest',\n",
       "       'Other Non Current Liabilities', 'Tradeand Other Payables Non Current',\n",
       "       'Long Term Debt And Capital Lease Obligation',\n",
       "       'Long Term Capital Lease Obligation', 'Long Term Debt',\n",
       "       'Current Liabilities', 'Other Current Liabilities',\n",
       "       'Current Deferred Liabilities', 'Current Deferred Revenue',\n",
       "       'Current Debt And Capital Lease Obligation',\n",
       "       'Current Capital Lease Obligation', 'Current Debt',\n",
       "       'Other Current Borrowings', 'Commercial Paper',\n",
       "       'Payables And Accrued Expenses', 'Payables', 'Total Tax Payable',\n",
       "       'Income Tax Payable', 'Accounts Payable', 'Total Assets',\n",
       "       'Total Non Current Assets', 'Other Non Current Assets',\n",
       "       'Non Current Deferred Assets', 'Non Current Deferred Taxes Assets',\n",
       "       'Investments And Advances', 'Other Investments',\n",
       "       'Investmentin Financial Assets', 'Available For Sale Securities',\n",
       "       'Net PPE', 'Accumulated Depreciation', 'Gross PPE', 'Leases',\n",
       "       'Other Properties', 'Machinery Furniture Equipment',\n",
       "       'Land And Improvements', 'Properties', 'Current Assets',\n",
       "       'Other Current Assets', 'Inventory', 'Receivables', 'Other Receivables',\n",
       "       'Accounts Receivable',\n",
       "       'Cash Cash Equivalents And Short Term Investments',\n",
       "       'Other Short Term Investments', 'Cash And Cash Equivalents',\n",
       "       'Cash Equivalents', 'Cash Financial'],\n",
       "      dtype='object')"
      ]
     },
     "execution_count": 450,
     "metadata": {},
     "output_type": "execute_result"
    }
   ],
   "source": [
    "stock= yf.Ticker(ticker)\n",
    "stock.balance_sheet.loc['Cash Cash Equivalents And Short Term Investments'].dropna()"
   ]
  },
  {
   "cell_type": "code",
   "execution_count": null,
   "id": "a002d6b2-c7c1-41a2-902c-69cf3e5f4999",
   "metadata": {},
   "outputs": [],
   "source": []
  }
 ],
 "metadata": {
  "kernelspec": {
   "display_name": "Python [conda env:base] *",
   "language": "python",
   "name": "conda-base-py"
  },
  "language_info": {
   "codemirror_mode": {
    "name": "ipython",
    "version": 3
   },
   "file_extension": ".py",
   "mimetype": "text/x-python",
   "name": "python",
   "nbconvert_exporter": "python",
   "pygments_lexer": "ipython3",
   "version": "3.12.7"
  }
 },
 "nbformat": 4,
 "nbformat_minor": 5
}
